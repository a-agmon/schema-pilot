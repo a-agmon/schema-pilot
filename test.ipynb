{
 "cells": [
  {
   "cell_type": "code",
   "execution_count": null,
   "metadata": {},
   "outputs": [],
   "source": [
    "%pip install lancedb\n",
    "%pip install pandas\n",
    "%pip install pyarrow\n",
    "%pip install ipywidgets\n",
    "%pip install jupyter\n",
    "%pip install sentence-transformers\n"
   ]
  },
  {
   "cell_type": "code",
   "execution_count": 12,
   "metadata": {},
   "outputs": [],
   "source": [
    "import lancedb\n",
    "import pandas as pd\n",
    "import pyarrow as pa\n",
    "import numpy as np\n",
    "\n",
    "uri = \"runtime_assets/vecdb\"\n",
    "db = lancedb.connect(uri)"
   ]
  },
  {
   "cell_type": "code",
   "execution_count": 13,
   "metadata": {},
   "outputs": [
    {
     "data": {
      "text/plain": [
       "['hc100']"
      ]
     },
     "execution_count": 13,
     "metadata": {},
     "output_type": "execute_result"
    }
   ],
   "source": [
    "db.table_names()"
   ]
  },
  {
   "cell_type": "code",
   "execution_count": 14,
   "metadata": {},
   "outputs": [
    {
     "data": {
      "text/plain": [
       "5418"
      ]
     },
     "execution_count": 14,
     "metadata": {},
     "output_type": "execute_result"
    }
   ],
   "source": [
    "tbl = db.open_table(\"hc100\")\n",
    "tbl.count_rows()"
   ]
  },
  {
   "cell_type": "code",
   "execution_count": 15,
   "metadata": {},
   "outputs": [
    {
     "data": {
      "text/plain": [
       "array([[\"# Table: 'AbcClassification' (Abc Classification): The classification of inventory, after ABC analysis, into three basic groups for the purpose of stock control and planning. The 3 basic categories a\"],\n",
       "       [\"# Table: 'AbuseType' (Abuse Type): When used as a legal term in healthcare, it normally refers to actions that do not involve intentional misrepresentations in billing but which, nevert\"],\n",
       "       [\"# Table: 'AccountStatus' (Account Status): The status of the associated account.Ex:- Current- Past due- 30 days past due- 60 days past due- 90 days past due- In collection- Delinquent\"],\n",
       "       [\"# Table: 'AccountingBasis' (Accounting Basis): The accounting basis in which transactions that change a company's financial statements are recorded in the periods in which the events occur, rather \"],\n",
       "       [\"# Table: 'AccountingFramework' (Accounting Framework): There are many different frameworks of accounting standards in use internationally. Each of these frameworks consists of a set of standards / rules / \"],\n",
       "       [\"# Table: 'AccountingFrameworkStandard' (Accounting Framework Standard): Each Accounting Framework consists of a set of standards / rules / interpretations. These standards guide the organization in how financial transactio\"],\n",
       "       [\"# Table: 'AccountingPolicy' (Accounting Policy): An accounting policy that is based on the Accounting Framework Standard.\"],\n",
       "       [\"# Table: 'AccountingProcedureType' (Accounting Procedure Type): An accounting procedure alters or affects one or more accounts.For Example, closing entries at the end of an accounting period transfer the balances\"],\n",
       "       [\"# Table: 'AccreditationCategory' (Accreditation Category): A categorization of accreditation types for the purpose of grouping similar accreditations together.Ex:- Blue Cross- State- Federal- CDC\"],\n",
       "       [\"# Table: 'AccreditationOrganization' (Accreditation Organization): An organization that accredits Healthcare or service providersEx:- The Joint Commission - Ambulatory Care Accreditation Program- The Joint Commiss\"]],\n",
       "      dtype=object)"
      ]
     },
     "execution_count": 15,
     "metadata": {},
     "output_type": "execute_result"
    }
   ],
   "source": [
    "tbl.search(None).select([\"filename\"]).to_pandas().values"
   ]
  },
  {
   "cell_type": "code",
   "execution_count": 16,
   "metadata": {},
   "outputs": [
    {
     "data": {
      "text/plain": [
       "array([[\"# Table: 'AbcClassification' (Abc Classification): The classification of inventory, after ABC analysis, into three basic groups for the purpose of stock control and planning. The 3 basic categories a\\n# Columns:\\n   - AbcClassificationId (integer): The unique identifier of an ABC Classification.\\n   - AbcClassificationName (string): The name of an ABC Classification.\\n   - AbcClassificationDescription (string): The description of an ABC Classification.\"],\n",
       "       [\"# Table: 'AbuseType' (Abuse Type): When used as a legal term in healthcare, it normally refers to actions that do not involve intentional misrepresentations in billing but which, nevert\\n# Columns:\\n   - AbuseTypeId (integer): The unique identifier of a type of abuse.\\n   - AbuseTypeName (string): The name of a type of abuse.\\n   - AbuseTypeDescription (string): The description of a type of abuse.\"],\n",
       "       [\"# Table: 'AccountStatus' (Account Status): The status of the associated account.Ex:- Current- Past due- 30 days past due- 60 days past due- 90 days past due- In collection- Delinquent\\n# Columns:\\n   - AccountStatusId (integer): The unique identifier of an Account Status.\\n   - AccountStatusName (string): The name of an Account Status.\\n   - AccountStatusDescription (string): The description of an Account Status.\"],\n",
       "       [\"# Table: 'AccountingBasis' (Accounting Basis): The accounting basis in which transactions that change a company's financial statements are recorded in the periods in which the events occur, rather \\n# Columns:\\n   - AccountingBasisId (integer): The unique identifier of an Accounting Basis.\\n   - AccountingBasisName (string): The name of an Accounting Basis.\\n   - AccountingBasisDescription (string): The description of an Accounting Basis.\"],\n",
       "       [\"# Table: 'AccountingFramework' (Accounting Framework): There are many different frameworks of accounting standards in use internationally. Each of these frameworks consists of a set of standards / rules / \\n# Columns:\\n   - AccountingFrameworkId (integer): The unique identifier of an Accounting Framework.\\n   - AccountingFrameworkName (string): The name of an Accounting Framework.\\n   - AccountingFrameworkDescription (string): The description of an Accounting Framework.\\n   - GoverningPartyId (long): The unique identifier of a Party.  child reference to Party.PartyId.\"],\n",
       "       [\"# Table: 'AccountingFrameworkStandard' (Accounting Framework Standard): Each Accounting Framework consists of a set of standards / rules / interpretations. These standards guide the organization in how financial transactio\\n# Columns:\\n   - AccountingFrameworkId (integer): The unique identifier of an Accounting Framework.  child reference to AccountingFramework.AccountingFrameworkId.\\n   - AccountingFrameworkStandardId (integer): The unique identifier of an Accounting Framework Standard.\\n   - AccountingFrameworkStandardName (string): The name of an Accounting Framework Standard.\\n   - AccountingFrameworkStandardDescription (string): The description of an Accounting Framework Standard.\"],\n",
       "       [\"# Table: 'AccountingPolicy' (Accounting Policy): An accounting policy that is based on the Accounting Framework Standard.\\n# Columns:\\n   - LegalEntityId (integer): The unique identifier of a Legal Entity.In this case it is the business, organization or legal entity whose books are being recorded and financial s  child reference to LegalEntity.LegalEntityId.\\n   - AccountingPolicyId (integer): The unique identifier of a policy.\\n   - PeriodStartDate (date): The period start date for which the policy is applicable.\\n   - PeriodEndDate (date): The period end date for which the policy is applicable.\\n   - AccountingPolicyText (string): The text of an accounting policy.\\n   - AccountingFrameworkStandardSection (string): The section of the Accounting Framework Standard to which the policy applies.\\n   - AccountingFrameworkId (integer): The unique identifier of an Accounting Framework.  child reference to AccountingFrameworkStandard.AccountingFrameworkId.\\n   - AccountingFrameworkStandardId (integer): The unique identifier of an Accounting Framework Standard.  child reference to AccountingFrameworkStandard.AccountingFrameworkStandardId.\\n   - OrganizationalPolicyId (integer): The unique identifier of an Organizational Policy.  child reference to OrganizationalPolicy.OrganizationalPolicyId.\"],\n",
       "       [\"# Table: 'AccountingProcedureType' (Accounting Procedure Type): An accounting procedure alters or affects one or more accounts.For Example, closing entries at the end of an accounting period transfer the balances\\n# Columns:\\n   - AccountingProcedureTypeId (integer): The unique identifier of an Accounting Procedure Type.\\n   - AccountingProcedureTypeName (string): The name of an Accounting Procedure Type.\\n   - AccountingProcedureTypeDescription (string): The description of an Accounting Procedure Type.\"],\n",
       "       [\"# Table: 'AccreditationCategory' (Accreditation Category): A categorization of accreditation types for the purpose of grouping similar accreditations together.Ex:- Blue Cross- State- Federal- CDC\\n# Columns:\\n   - AccreditationCategoryId (integer): The unique identifier of an Accreditation Category.\\n   - AccreditationCategoryName (string): The name of the associated Accreditation Category.\\n   - AccreditationCategoryDescription (string): The description of the associated Accreditation Category.\"],\n",
       "       [\"# Table: 'AccreditationOrganization' (Accreditation Organization): An organization that accredits Healthcare or service providersEx:- The Joint Commission - Ambulatory Care Accreditation Program- The Joint Commiss\\n# Columns:\\n   - OrganizationId (integer): The unique identifier of the accreditation organization.\\n   - AccreditationName (string): The name of the accreditation.\\n   - AccreditationDescription (string): The description of the accreditation.\\n   - AccreditationOrganizationName (string): The name of the accreditation organization.\\n   - LocationId (integer): The unique identifier of a Location.  child reference to Location.LocationId.\\n   - AccreditationOrganizationTelephoneNumber (decimal): The accreditation organization telephone number.\\n   - AccreditationOrganizationFaxNumber (decimal): The accreditation organization fax number.\\n   - AccreditationOrganizationEmailAddress (string): The accreditation organization email address.\\n   - PartyId (long): The unique identifier of a Party.  child reference to Party.PartyId.\"]],\n",
       "      dtype=object)"
      ]
     },
     "execution_count": 16,
     "metadata": {},
     "output_type": "execute_result"
    }
   ],
   "source": [
    "tbl.search(None).select([\"content\"]).to_pandas().values"
   ]
  },
  {
   "cell_type": "code",
   "execution_count": 29,
   "metadata": {},
   "outputs": [],
   "source": [
    "# generate an embedding request to ollama  on the sentance \n",
    "sentence = \"where can I find data about allergy reactions of patients\"\n",
    "\n",
    "import requests\n",
    "import json\n",
    "\n",
    "def get_embedding(text):\n",
    "    response = requests.post(\n",
    "        \"http://localhost:11434/api/embeddings\",\n",
    "        json={\"model\": \"nomic-embed-text\", \"prompt\": text}\n",
    "    )\n",
    "    return response.json()[\"embedding\"]\n",
    "\n",
    "question_embedding = get_embedding(sentence)\n",
    "# normalize the embedding to unit length\n",
    "question_embedding = question_embedding / np.linalg.norm(question_embedding)\n"
   ]
  },
  {
   "cell_type": "code",
   "execution_count": 17,
   "metadata": {},
   "outputs": [],
   "source": [
    "from sentence_transformers import SentenceTransformer\n",
    "# generate an embedding request to ollama  on the sentance \n",
    "sentence = \"where can I find info about patients health insurance claims status\"\n",
    "# 1. Load a pretrained Sentence Transformer model\n",
    "model = SentenceTransformer(\"all-MiniLM-L12-v2\")\n",
    "# 2. Generate embeddings for a list of sentences\n",
    "sentence_embeddings = model.encode(sentence)\n",
    "# 3. Normalize the embeddings to unit length\n",
    "sentence_embeddings = sentence_embeddings / np.linalg.norm(sentence_embeddings)\n"
   ]
  },
  {
   "cell_type": "code",
   "execution_count": 18,
   "metadata": {},
   "outputs": [
    {
     "data": {
      "text/plain": [
       "array([[\"# Table: 'ClaimStatusType' (Claim Status Type): The status of the associated Claim.Ex:- Submitted- Open- Closed- Filed- Under Review- Contested- Uncontested- Pending arbitration- Settled/\\n# Columns:\\n   - ClaimStatusTypeId (integer): The unique identifier of a claim status type.\\n   - ClaimStatusTypeName (string): The name of a claim status type.\\n   - ClaimStatusTypeDescription (string): The description of a claim status type.\",\n",
       "        0.9500734806060791],\n",
       "       [\"# Table: 'HealthInsuranceClaim' (Health Insurance Claim): An itemized statement of healthcare services and their costs provided by a Service Provider. Claims are submitted to the insurer or managed care plan \\n# Columns:\\n   - ClaimId (long): The unique identifier of a Claim.\\n   - PayerClaimControlNumber (integer): Unique control number of identification assigned to the claim by the payer.\\n   - ServiceProviderId (integer): The unique identifier of a Service Provider.  child reference to ServiceProvider.ServiceProviderId.\\n   - ProviderClaimControlNumber (integer): Unique control number of identification assigned to the claim by the provider.\\n   - SendersClaimIdentificationNumber (integer): Unique number of identification assigned to the claim by the sender.\\n   - HealthClaimTypeId (integer): The unique identifier of a Health Claim Type.  child reference to HealthClaimType.HealthClaimTypeId.\\n   - ClaimFormatTypeId (integer): The unique identifier of a claim format type.  child reference to ClaimFormatType.ClaimFormatTypeId.\\n   - ClaimNote (string): Notes, comments or additional information regarding the Claim.\\n   - HealthPlanBenefitPeriodId (integer): The unique identifier of a Health Plan Benefit Period.  child reference to HealthPlanBenefitPeriod.HealthPlanBenefitPeriodId.\\n   - ClaimPeriodStartDate (date): The beginning service date of the period included on the claim.\\n   - ClaimPeriodEndDate (date): The ending service date of the period included on the claim.\\n   - ClaimReceiptDate (date): The date on which the claim bill is marked as received and processed.\\n   - ClaimSubmittedDate (date): The date that the claim was submitted for payment.\\n   - ClaimPaidDate (date): The date that the Claim was paid.\\n   - ClaimItemAuthorizedDate (date): The date that the claim facility charge was authorized.\\n   - EmploymentImpactStartDate (date): The start and optional end dates of when the patient was precluded from working due to the treatable condition(s).\\n   - EmploymentImpactEndDate (date): The date that the claim was submitted for payment.\\n   - EncounterId (long): The unique identifier of an Encounter with a Service Provider.  child reference to Encounter.EncounterId.\\n   - HealthPlanInsurerId (integer): The unique identifier of an insurer.\\n   - HealthPlanId (long): The unique identifier of a Health Plan.  child reference to HealthPlanBenefitPeriod.HealthPlanId.\\n   - HealthPlanPolicyId (integer): The unique identifier of a policy.\\n   - MemberId (integer): The unique identifier of a Member.\\n   - PatientId (integer): The unique identifier of a Patient.\\n   - MedicareIsPrimaryIndicator (boolean): Indicates that Medicare is the primary payer.\\n   - LegalRepresentativeIndicator (boolean): An indicator that there is another person who is legally responsible for the patient on this claim.    Y = Yes, there is a responsible partyN = No,\\n   - OtherInsuranceIndicatorCode (string): A code which indicates the patient has other insurance which may or may not be reflected on this claim.  1 = Yes, patient has other insurance.2 = Y\\n   - ElectronicClaimIndicator (boolean): A digital representation of a medical bill generated by a provider or by the provider's billing agent for submission using telecommunications to a hea\\n   - UnassignedClaimIndicator (boolean): A claim submitted for a service or supply by a provider who does not accept assignment. Also see Assignment of Benefits.\\n   - ClaimBillTypeId (integer): The unique identifier of a Claim Bill Type.  child reference to ClaimBillType.ClaimBillTypeId.\\n   - ClaimRevenueCode (string): The unique identifier of a Claim Revenue Code. The revenue code as defined for HCPCS and CPT Coding Requirements.  child reference to ClaimRevenueCode.ClaimRevenueCode.\\n   - ContractId (integer): The unique identifier of a Contract.  child reference to Contract.ContractId.\\n   - ClaimReleaseOfInformationStatusCode (string): The unique identifier of a Release of Information Status Code.\\n   - CleanClaimIndicator (boolean): A claim that does not have to be investigated by insurance companies before they process it.\\n   - HealthInsuranceClaimAuthorizationTypeId (integer): The unique identifier of a health insurance claim authorization type.  child reference to HealthInsuranceClaimAuthorizationType.HealthInsuranceClaimAuthorizationTypeId.\\n   - IsoCurrencyCode (string): The ISO 4217 currency code.\",\n",
       "        0.7977538108825684],\n",
       "       [\"# Table: 'HealthInsuranceClaimAuthorizationType' (Health Insurance Claim Authorization Type): The authorization for the associated Health Insurance Claim.Ex:- preauthorization- predetermination\\n# Columns:\\n   - HealthInsuranceClaimAuthorizationTypeId (integer): The unique identifier of a health insurance claim authorization type.\\n   - HealthInsuranceClaimAuthorizationTypeName (string): The name of a health insurance claim authorization type.\\n   - HealthInsuranceClaimAuthorizationTypeDescription (string): The description of a health insurance claim authorization type.\",\n",
       "        0.944693386554718],\n",
       "       [\"# Table: 'HealthInsuranceClaimReserve' (Health Insurance Claim Reserve): The reserve allocated for a Health Insurance Claim Reserve for a specific claim.\\n# Columns:\\n   - ClaimId (long): The unique identifier of a Claim.  child reference to HealthInsuranceClaim.ClaimId.\\n   - HealthInsuranceClaimReserveTypeId (integer): The unique identifier of a Health Insurance Claim Reserve Type.  child reference to HealthInsuranceClaimReserveType.HealthInsuranceClaimReserveTypeId.\\n   - HealthInsuranceClaimReserveDate (date): The date that the associated Health Insurance Claim Reserve was effective.\\n   - HealthInsuranceClaimReserveNote (string): A note, comment or additional information regarding the Health Insurance Claim Reserve.\\n   - HealthInsuranceClaimReserveAmount (decimal): The amount of the Health Insurance Claim Reserve.\",\n",
       "        0.945043683052063],\n",
       "       [\"# Table: 'HealthPlanPolicyMemberStatus' (Health Plan Policy Member Status): The Status of the Member under the Health Plan Policy under which they are insured.\\n# Columns:\\n   - HealthPlanInsurerId (integer): The unique identifier of an insurer.  child reference to HealthPlanPolicyMember.HealthPlanInsurerId.\\n   - HealthPlanPolicyId (integer): The unique identifier of a policy.  child reference to HealthPlanPolicyMember.HealthPlanPolicyId.\\n   - MemberId (integer): The unique identifier of a Member.  child reference to HealthPlanPolicyMember.MemberId.\\n   - HealthPlanPolicyMemberStatusStartDate (date): The date that the member started having the policy status.\\n   - HealthPlanPolicyMemberStatusEndDate (date): The date that the member ceased having the policy status.\\n   - PolicyMemberStatusTypeId (integer): The unique identifier of a Policy Member Status Type.  child reference to PolicyMemberStatusType.PolicyMemberStatusTypeId.\\n   - PolicyChangeReasonTypeId (integer): The unique identifier of a Policy Change Reason Type.  child reference to PolicyChangeReasonType.PolicyChangeReasonTypeId.\\n   - HealthPlanPolicyMemberStatusNote (string): A note, comment or additional information regarding the health plan policy member status.\",\n",
       "        0.9362796545028687],\n",
       "       [\"# Table: 'HealthPlanPolicyStatus' (Health Plan Policy Status): The status of the associated policy.Ex:- Paid/In Good Standing- Delinquent- Pending Closure- Closed For Non-Payment- Closed Due To Fraud- Unde\\n# Columns:\\n   - HealthPlanPolicyStatusId (integer): The unique identifier of a health plan policy status.\\n   - HealthPlanPolicyStatusName (string): The name of a health plan policy status.\\n   - HealthPlanPolicyStatusDescription (string): The description of a health plan policy status.\",\n",
       "        0.9621328115463257],\n",
       "       [\"# Table: 'HealthPlanServiceProviderFacilityMedicalProcedureStatus' (Health Plan Service Provider Facility Medical Procedure Status): The status of the associated Medical Procedure at the Service Provider Facility under the associated Health Plan for the indicated period.\\n# Columns:\\n   - HealthPlanId (long): The unique identifier of a Health Plan.  child reference to HealthPlanServiceProviderFacilityMedicalProcedure.HealthPlanId.\\n   - ServiceProviderId (integer): The unique identifier of a Service Provider.  child reference to HealthPlanServiceProviderFacilityMedicalProcedure.ServiceProviderId.\\n   - HealthcareFacilityId (integer): The unique identifier of a Service Provider Facility.  child reference to HealthPlanServiceProviderFacilityMedicalProcedure.HealthcareFacilityId.\\n   - MedicalProcedureId (long): The unique identifier of a Medical Procedure.  child reference to HealthPlanServiceProviderFacilityMedicalProcedure.MedicalProcedureId.\\n   - MedicalProcedureStatusTypeId (integer): The unique identifier of a Medical Procedure Status Type.  child reference to MedicalProcedureStatusType.MedicalProcedureStatusTypeId.\\n   - PeriodStartDate (date): The start period date that the Procedure is offered by the Service Provider at the associated Facility under the Health Plan.  child reference to HealthPlanServiceProviderFacilityMedicalProcedure.PeriodStartDate.\\n   - PeriodEndDate (date): The period end date for which the associated status is defined.\\n   - MedicalProcedureNote (string): A note, comment or additional information regarding the associated Medical Procedure status.\",\n",
       "        0.9674091339111328],\n",
       "       [\"# Table: 'HealthPlanServiceProviderFacilityOutcomeBasedTreatmentProgramStatus' (Health Plan Service Provider Facility Outcome-Based Treatment Program Status): The status of the associated Outcome-Based Treatment Program at the Service Provider Facility under the associated Health Plan for the indicated perio\\n# Columns:\\n   - HealthPlanId (long): The unique identifier of a Health Plan.  child reference to HealthPlanServiceProviderFacilityOutcomeBasedTreatmentProgram.HealthPlanId.\\n   - ServiceProviderId (integer): The unique identifier of a Service Provider.  child reference to HealthPlanServiceProviderFacilityOutcomeBasedTreatmentProgram.ServiceProviderId.\\n   - HealthcareFacilityId (integer): The unique identifier of a Service Provider Facility.  child reference to HealthPlanServiceProviderFacilityOutcomeBasedTreatmentProgram.HealthcareFacilityId.\\n   - OutcomeBasedTreatmentProgramId (long): The unique identifier of an Outcome-Based Treatment Program.  child reference to HealthPlanServiceProviderFacilityOutcomeBasedTreatmentProgram.OutcomeBasedTreatmentProgramId.\\n   - OutcomeBasedTreatmentProgramStatusTypeId (integer): The unique identifier of a Test Status Type.  child reference to OutcomeBasedTreatmentProgramStatusType.OutcomeBasedTreatmentProgramStatusTypeId.\\n   - PeriodStartDate (date): The start period date that the Outcome-Based Treatment Program is offered by the Service Provider at the associated Facility under the Health Plan.  child reference to HealthPlanServiceProviderFacilityOutcomeBasedTreatmentProgram.PeriodStartDate.\\n   - PeriodEndDate (date): The end period date that the Outcome-Based Treatment Program is offered by the Service Provider at the associated Facility under the Health Plan.\\n   - OutcomeBasedTreatmentProgramStatusNote (string): A note, comment or additional information regarding the associated outcome-based treatment program status.\",\n",
       "        0.9908565282821655],\n",
       "       [\"# Table: 'InsuranceClaim' (Insurance Claim): A request to the insurance company by the policyholder for payment of a loss in accordance with the policy contract.A request to an insurance compan\\n# Columns:\\n   - ClaimId (long): The unique identifier of a Claim.\\n   - InsuranceClaimDescription (string): The description of an insurance claim.\\n   - InsuranceClaimStatement (string): A statement regarding the insurance claim.\\n   - CertificateOfSatisfactionNumber (integer): A form signed by the insured when he or she takes delivery of the car from the repairer. It certifies that he or she is satisfied with the vehicle ope\\n   - ElectronicClaimIndicator (boolean): A digital representation of a medical bill generated by a provider or by the provider's billing agent for submission using telecommunications to a hea\\n   - TotalLossIndicator (boolean): Total Loss: The condition of an automobile or other property when damage is so extensive that repair costs would exceed the value of the vehicle or pr\\n   - ClaimTypeId (integer): The unique identifier of a Claim Type.  child reference to ClaimType.ClaimTypeId.\\n   - ClaimCategoryId (integer): The unique identifier of a claim category.  child reference to ClaimCategory.ClaimCategoryId.\\n   - CatastropheId (integer): The unique identifier of a Catastrophe.  child reference to Catastrophe.CatastropheId.\\n   - OccurrenceId (integer): The unique identifier of the Occurrence.\\n   - InsurancePolicyId (integer): The unique identifier of an Insurance Policy.  child reference to InsurancePolicy.InsurancePolicyId.\",\n",
       "        0.973601222038269],\n",
       "       [\"# Table: 'InsurancePolicyStatusType' (Insurance Policy Status Type): The current status of the Insurance Policy.Ex:- in force / active- denied renewal- cancelled by customer- cancelled by company- unpaid / overdu\\n# Columns:\\n   - InsurancePolicyStatusTypeId (integer): The unique identifier of an Insurance Policy Status Type.\\n   - InsurancePolicyStatusTypeName (string): The name of an Insurance Policy Status Type.\\n   - InsurancePolicyStatusTypeDescription (string): The description of an Insurance Policy Status Type.\",\n",
       "        0.972998857498169]], dtype=object)"
      ]
     },
     "execution_count": 18,
     "metadata": {},
     "output_type": "execute_result"
    }
   ],
   "source": [
    "df = tbl.search(sentence_embeddings, query_type=\"vector\") \\\n",
    "    .select([\"content\"]) \\\n",
    "    .limit(10).to_pandas()\n",
    "df.sort_values(by=\"content\").values\n"
   ]
  },
  {
   "cell_type": "code",
   "execution_count": 19,
   "metadata": {},
   "outputs": [
    {
     "data": {
      "text/plain": [
       "array([[\"# Table: 'ClaimStatusType' (Claim Status Type): The status of the associated Claim.Ex:- Submitted- Open- Closed- Filed- Under Review- Contested- Uncontested- Pending arbitration- Settled/\\n# Columns:\\n   - ClaimStatusTypeId (integer): The unique identifier of a claim status type.\\n   - ClaimStatusTypeName (string): The name of a claim status type.\\n   - ClaimStatusTypeDescription (string): The description of a claim status type.\",\n",
       "        0.9500734806060791],\n",
       "       [\"# Table: 'HealthInsuranceClaim' (Health Insurance Claim): An itemized statement of healthcare services and their costs provided by a Service Provider. Claims are submitted to the insurer or managed care plan \\n# Columns:\\n   - ClaimId (long): The unique identifier of a Claim.\\n   - PayerClaimControlNumber (integer): Unique control number of identification assigned to the claim by the payer.\\n   - ServiceProviderId (integer): The unique identifier of a Service Provider.  child reference to ServiceProvider.ServiceProviderId.\\n   - ProviderClaimControlNumber (integer): Unique control number of identification assigned to the claim by the provider.\\n   - SendersClaimIdentificationNumber (integer): Unique number of identification assigned to the claim by the sender.\\n   - HealthClaimTypeId (integer): The unique identifier of a Health Claim Type.  child reference to HealthClaimType.HealthClaimTypeId.\\n   - ClaimFormatTypeId (integer): The unique identifier of a claim format type.  child reference to ClaimFormatType.ClaimFormatTypeId.\\n   - ClaimNote (string): Notes, comments or additional information regarding the Claim.\\n   - HealthPlanBenefitPeriodId (integer): The unique identifier of a Health Plan Benefit Period.  child reference to HealthPlanBenefitPeriod.HealthPlanBenefitPeriodId.\\n   - ClaimPeriodStartDate (date): The beginning service date of the period included on the claim.\\n   - ClaimPeriodEndDate (date): The ending service date of the period included on the claim.\\n   - ClaimReceiptDate (date): The date on which the claim bill is marked as received and processed.\\n   - ClaimSubmittedDate (date): The date that the claim was submitted for payment.\\n   - ClaimPaidDate (date): The date that the Claim was paid.\\n   - ClaimItemAuthorizedDate (date): The date that the claim facility charge was authorized.\\n   - EmploymentImpactStartDate (date): The start and optional end dates of when the patient was precluded from working due to the treatable condition(s).\\n   - EmploymentImpactEndDate (date): The date that the claim was submitted for payment.\\n   - EncounterId (long): The unique identifier of an Encounter with a Service Provider.  child reference to Encounter.EncounterId.\\n   - HealthPlanInsurerId (integer): The unique identifier of an insurer.\\n   - HealthPlanId (long): The unique identifier of a Health Plan.  child reference to HealthPlanBenefitPeriod.HealthPlanId.\\n   - HealthPlanPolicyId (integer): The unique identifier of a policy.\\n   - MemberId (integer): The unique identifier of a Member.\\n   - PatientId (integer): The unique identifier of a Patient.\\n   - MedicareIsPrimaryIndicator (boolean): Indicates that Medicare is the primary payer.\\n   - LegalRepresentativeIndicator (boolean): An indicator that there is another person who is legally responsible for the patient on this claim.    Y = Yes, there is a responsible partyN = No,\\n   - OtherInsuranceIndicatorCode (string): A code which indicates the patient has other insurance which may or may not be reflected on this claim.  1 = Yes, patient has other insurance.2 = Y\\n   - ElectronicClaimIndicator (boolean): A digital representation of a medical bill generated by a provider or by the provider's billing agent for submission using telecommunications to a hea\\n   - UnassignedClaimIndicator (boolean): A claim submitted for a service or supply by a provider who does not accept assignment. Also see Assignment of Benefits.\\n   - ClaimBillTypeId (integer): The unique identifier of a Claim Bill Type.  child reference to ClaimBillType.ClaimBillTypeId.\\n   - ClaimRevenueCode (string): The unique identifier of a Claim Revenue Code. The revenue code as defined for HCPCS and CPT Coding Requirements.  child reference to ClaimRevenueCode.ClaimRevenueCode.\\n   - ContractId (integer): The unique identifier of a Contract.  child reference to Contract.ContractId.\\n   - ClaimReleaseOfInformationStatusCode (string): The unique identifier of a Release of Information Status Code.\\n   - CleanClaimIndicator (boolean): A claim that does not have to be investigated by insurance companies before they process it.\\n   - HealthInsuranceClaimAuthorizationTypeId (integer): The unique identifier of a health insurance claim authorization type.  child reference to HealthInsuranceClaimAuthorizationType.HealthInsuranceClaimAuthorizationTypeId.\\n   - IsoCurrencyCode (string): The ISO 4217 currency code.\",\n",
       "        0.7977538108825684],\n",
       "       [\"# Table: 'HealthInsuranceClaimAuthorizationType' (Health Insurance Claim Authorization Type): The authorization for the associated Health Insurance Claim.Ex:- preauthorization- predetermination\\n# Columns:\\n   - HealthInsuranceClaimAuthorizationTypeId (integer): The unique identifier of a health insurance claim authorization type.\\n   - HealthInsuranceClaimAuthorizationTypeName (string): The name of a health insurance claim authorization type.\\n   - HealthInsuranceClaimAuthorizationTypeDescription (string): The description of a health insurance claim authorization type.\",\n",
       "        0.944693386554718],\n",
       "       [\"# Table: 'HealthInsuranceClaimReserve' (Health Insurance Claim Reserve): The reserve allocated for a Health Insurance Claim Reserve for a specific claim.\\n# Columns:\\n   - ClaimId (long): The unique identifier of a Claim.  child reference to HealthInsuranceClaim.ClaimId.\\n   - HealthInsuranceClaimReserveTypeId (integer): The unique identifier of a Health Insurance Claim Reserve Type.  child reference to HealthInsuranceClaimReserveType.HealthInsuranceClaimReserveTypeId.\\n   - HealthInsuranceClaimReserveDate (date): The date that the associated Health Insurance Claim Reserve was effective.\\n   - HealthInsuranceClaimReserveNote (string): A note, comment or additional information regarding the Health Insurance Claim Reserve.\\n   - HealthInsuranceClaimReserveAmount (decimal): The amount of the Health Insurance Claim Reserve.\",\n",
       "        0.945043683052063],\n",
       "       [\"# Table: 'HealthPlanPolicyMemberStatus' (Health Plan Policy Member Status): The Status of the Member under the Health Plan Policy under which they are insured.\\n# Columns:\\n   - HealthPlanInsurerId (integer): The unique identifier of an insurer.  child reference to HealthPlanPolicyMember.HealthPlanInsurerId.\\n   - HealthPlanPolicyId (integer): The unique identifier of a policy.  child reference to HealthPlanPolicyMember.HealthPlanPolicyId.\\n   - MemberId (integer): The unique identifier of a Member.  child reference to HealthPlanPolicyMember.MemberId.\\n   - HealthPlanPolicyMemberStatusStartDate (date): The date that the member started having the policy status.\\n   - HealthPlanPolicyMemberStatusEndDate (date): The date that the member ceased having the policy status.\\n   - PolicyMemberStatusTypeId (integer): The unique identifier of a Policy Member Status Type.  child reference to PolicyMemberStatusType.PolicyMemberStatusTypeId.\\n   - PolicyChangeReasonTypeId (integer): The unique identifier of a Policy Change Reason Type.  child reference to PolicyChangeReasonType.PolicyChangeReasonTypeId.\\n   - HealthPlanPolicyMemberStatusNote (string): A note, comment or additional information regarding the health plan policy member status.\",\n",
       "        0.9362796545028687],\n",
       "       [\"# Table: 'HealthPlanPolicyStatus' (Health Plan Policy Status): The status of the associated policy.Ex:- Paid/In Good Standing- Delinquent- Pending Closure- Closed For Non-Payment- Closed Due To Fraud- Unde\\n# Columns:\\n   - HealthPlanPolicyStatusId (integer): The unique identifier of a health plan policy status.\\n   - HealthPlanPolicyStatusName (string): The name of a health plan policy status.\\n   - HealthPlanPolicyStatusDescription (string): The description of a health plan policy status.\",\n",
       "        0.9621328115463257],\n",
       "       [\"# Table: 'HealthPlanServiceProviderFacilityMedicalProcedureStatus' (Health Plan Service Provider Facility Medical Procedure Status): The status of the associated Medical Procedure at the Service Provider Facility under the associated Health Plan for the indicated period.\\n# Columns:\\n   - HealthPlanId (long): The unique identifier of a Health Plan.  child reference to HealthPlanServiceProviderFacilityMedicalProcedure.HealthPlanId.\\n   - ServiceProviderId (integer): The unique identifier of a Service Provider.  child reference to HealthPlanServiceProviderFacilityMedicalProcedure.ServiceProviderId.\\n   - HealthcareFacilityId (integer): The unique identifier of a Service Provider Facility.  child reference to HealthPlanServiceProviderFacilityMedicalProcedure.HealthcareFacilityId.\\n   - MedicalProcedureId (long): The unique identifier of a Medical Procedure.  child reference to HealthPlanServiceProviderFacilityMedicalProcedure.MedicalProcedureId.\\n   - MedicalProcedureStatusTypeId (integer): The unique identifier of a Medical Procedure Status Type.  child reference to MedicalProcedureStatusType.MedicalProcedureStatusTypeId.\\n   - PeriodStartDate (date): The start period date that the Procedure is offered by the Service Provider at the associated Facility under the Health Plan.  child reference to HealthPlanServiceProviderFacilityMedicalProcedure.PeriodStartDate.\\n   - PeriodEndDate (date): The period end date for which the associated status is defined.\\n   - MedicalProcedureNote (string): A note, comment or additional information regarding the associated Medical Procedure status.\",\n",
       "        0.9674091339111328],\n",
       "       [\"# Table: 'HealthPlanServiceProviderFacilityOutcomeBasedTreatmentProgramStatus' (Health Plan Service Provider Facility Outcome-Based Treatment Program Status): The status of the associated Outcome-Based Treatment Program at the Service Provider Facility under the associated Health Plan for the indicated perio\\n# Columns:\\n   - HealthPlanId (long): The unique identifier of a Health Plan.  child reference to HealthPlanServiceProviderFacilityOutcomeBasedTreatmentProgram.HealthPlanId.\\n   - ServiceProviderId (integer): The unique identifier of a Service Provider.  child reference to HealthPlanServiceProviderFacilityOutcomeBasedTreatmentProgram.ServiceProviderId.\\n   - HealthcareFacilityId (integer): The unique identifier of a Service Provider Facility.  child reference to HealthPlanServiceProviderFacilityOutcomeBasedTreatmentProgram.HealthcareFacilityId.\\n   - OutcomeBasedTreatmentProgramId (long): The unique identifier of an Outcome-Based Treatment Program.  child reference to HealthPlanServiceProviderFacilityOutcomeBasedTreatmentProgram.OutcomeBasedTreatmentProgramId.\\n   - OutcomeBasedTreatmentProgramStatusTypeId (integer): The unique identifier of a Test Status Type.  child reference to OutcomeBasedTreatmentProgramStatusType.OutcomeBasedTreatmentProgramStatusTypeId.\\n   - PeriodStartDate (date): The start period date that the Outcome-Based Treatment Program is offered by the Service Provider at the associated Facility under the Health Plan.  child reference to HealthPlanServiceProviderFacilityOutcomeBasedTreatmentProgram.PeriodStartDate.\\n   - PeriodEndDate (date): The end period date that the Outcome-Based Treatment Program is offered by the Service Provider at the associated Facility under the Health Plan.\\n   - OutcomeBasedTreatmentProgramStatusNote (string): A note, comment or additional information regarding the associated outcome-based treatment program status.\",\n",
       "        0.9908565282821655],\n",
       "       [\"# Table: 'InsuranceClaim' (Insurance Claim): A request to the insurance company by the policyholder for payment of a loss in accordance with the policy contract.A request to an insurance compan\\n# Columns:\\n   - ClaimId (long): The unique identifier of a Claim.\\n   - InsuranceClaimDescription (string): The description of an insurance claim.\\n   - InsuranceClaimStatement (string): A statement regarding the insurance claim.\\n   - CertificateOfSatisfactionNumber (integer): A form signed by the insured when he or she takes delivery of the car from the repairer. It certifies that he or she is satisfied with the vehicle ope\\n   - ElectronicClaimIndicator (boolean): A digital representation of a medical bill generated by a provider or by the provider's billing agent for submission using telecommunications to a hea\\n   - TotalLossIndicator (boolean): Total Loss: The condition of an automobile or other property when damage is so extensive that repair costs would exceed the value of the vehicle or pr\\n   - ClaimTypeId (integer): The unique identifier of a Claim Type.  child reference to ClaimType.ClaimTypeId.\\n   - ClaimCategoryId (integer): The unique identifier of a claim category.  child reference to ClaimCategory.ClaimCategoryId.\\n   - CatastropheId (integer): The unique identifier of a Catastrophe.  child reference to Catastrophe.CatastropheId.\\n   - OccurrenceId (integer): The unique identifier of the Occurrence.\\n   - InsurancePolicyId (integer): The unique identifier of an Insurance Policy.  child reference to InsurancePolicy.InsurancePolicyId.\",\n",
       "        0.973601222038269],\n",
       "       [\"# Table: 'InsurancePolicyStatusType' (Insurance Policy Status Type): The current status of the Insurance Policy.Ex:- in force / active- denied renewal- cancelled by customer- cancelled by company- unpaid / overdu\\n# Columns:\\n   - InsurancePolicyStatusTypeId (integer): The unique identifier of an Insurance Policy Status Type.\\n   - InsurancePolicyStatusTypeName (string): The name of an Insurance Policy Status Type.\\n   - InsurancePolicyStatusTypeDescription (string): The description of an Insurance Policy Status Type.\",\n",
       "        0.972998857498169]], dtype=object)"
      ]
     },
     "execution_count": 19,
     "metadata": {},
     "output_type": "execute_result"
    }
   ],
   "source": [
    "df.sort_values(by=\"content\").values"
   ]
  },
  {
   "cell_type": "code",
   "execution_count": 20,
   "metadata": {},
   "outputs": [],
   "source": [
    "rel_tables = \"\\n\".join(df['content'].values)"
   ]
  },
  {
   "cell_type": "code",
   "execution_count": 23,
   "metadata": {},
   "outputs": [
    {
     "name": "stdout",
     "output_type": "stream",
     "text": [
      "\n",
      "You are an AI assistant that answers questions about database schemas and tables.\n",
      "Here are the relevant tables and columns:\n",
      "# Table: 'HealthInsuranceClaim' (Health Insurance Claim): An itemized statement of healthcare services and their costs provided by a Service Provider. Claims are submitted to the insurer or managed care plan \n",
      "# Columns:\n",
      "   - ClaimId (long): The unique identifier of a Claim.\n",
      "   - PayerClaimControlNumber (integer): Unique control number of identification assigned to the claim by the payer.\n",
      "   - ServiceProviderId (integer): The unique identifier of a Service Provider.  child reference to ServiceProvider.ServiceProviderId.\n",
      "   - ProviderClaimControlNumber (integer): Unique control number of identification assigned to the claim by the provider.\n",
      "   - SendersClaimIdentificationNumber (integer): Unique number of identification assigned to the claim by the sender.\n",
      "   - HealthClaimTypeId (integer): The unique identifier of a Health Claim Type.  child reference to HealthClaimType.HealthClaimTypeId.\n",
      "   - ClaimFormatTypeId (integer): The unique identifier of a claim format type.  child reference to ClaimFormatType.ClaimFormatTypeId.\n",
      "   - ClaimNote (string): Notes, comments or additional information regarding the Claim.\n",
      "   - HealthPlanBenefitPeriodId (integer): The unique identifier of a Health Plan Benefit Period.  child reference to HealthPlanBenefitPeriod.HealthPlanBenefitPeriodId.\n",
      "   - ClaimPeriodStartDate (date): The beginning service date of the period included on the claim.\n",
      "   - ClaimPeriodEndDate (date): The ending service date of the period included on the claim.\n",
      "   - ClaimReceiptDate (date): The date on which the claim bill is marked as received and processed.\n",
      "   - ClaimSubmittedDate (date): The date that the claim was submitted for payment.\n",
      "   - ClaimPaidDate (date): The date that the Claim was paid.\n",
      "   - ClaimItemAuthorizedDate (date): The date that the claim facility charge was authorized.\n",
      "   - EmploymentImpactStartDate (date): The start and optional end dates of when the patient was precluded from working due to the treatable condition(s).\n",
      "   - EmploymentImpactEndDate (date): The date that the claim was submitted for payment.\n",
      "   - EncounterId (long): The unique identifier of an Encounter with a Service Provider.  child reference to Encounter.EncounterId.\n",
      "   - HealthPlanInsurerId (integer): The unique identifier of an insurer.\n",
      "   - HealthPlanId (long): The unique identifier of a Health Plan.  child reference to HealthPlanBenefitPeriod.HealthPlanId.\n",
      "   - HealthPlanPolicyId (integer): The unique identifier of a policy.\n",
      "   - MemberId (integer): The unique identifier of a Member.\n",
      "   - PatientId (integer): The unique identifier of a Patient.\n",
      "   - MedicareIsPrimaryIndicator (boolean): Indicates that Medicare is the primary payer.\n",
      "   - LegalRepresentativeIndicator (boolean): An indicator that there is another person who is legally responsible for the patient on this claim.    Y = Yes, there is a responsible partyN = No,\n",
      "   - OtherInsuranceIndicatorCode (string): A code which indicates the patient has other insurance which may or may not be reflected on this claim.  1 = Yes, patient has other insurance.2 = Y\n",
      "   - ElectronicClaimIndicator (boolean): A digital representation of a medical bill generated by a provider or by the provider's billing agent for submission using telecommunications to a hea\n",
      "   - UnassignedClaimIndicator (boolean): A claim submitted for a service or supply by a provider who does not accept assignment. Also see Assignment of Benefits.\n",
      "   - ClaimBillTypeId (integer): The unique identifier of a Claim Bill Type.  child reference to ClaimBillType.ClaimBillTypeId.\n",
      "   - ClaimRevenueCode (string): The unique identifier of a Claim Revenue Code. The revenue code as defined for HCPCS and CPT Coding Requirements.  child reference to ClaimRevenueCode.ClaimRevenueCode.\n",
      "   - ContractId (integer): The unique identifier of a Contract.  child reference to Contract.ContractId.\n",
      "   - ClaimReleaseOfInformationStatusCode (string): The unique identifier of a Release of Information Status Code.\n",
      "   - CleanClaimIndicator (boolean): A claim that does not have to be investigated by insurance companies before they process it.\n",
      "   - HealthInsuranceClaimAuthorizationTypeId (integer): The unique identifier of a health insurance claim authorization type.  child reference to HealthInsuranceClaimAuthorizationType.HealthInsuranceClaimAuthorizationTypeId.\n",
      "   - IsoCurrencyCode (string): The ISO 4217 currency code.\n",
      "# Table: 'HealthPlanPolicyMemberStatus' (Health Plan Policy Member Status): The Status of the Member under the Health Plan Policy under which they are insured.\n",
      "# Columns:\n",
      "   - HealthPlanInsurerId (integer): The unique identifier of an insurer.  child reference to HealthPlanPolicyMember.HealthPlanInsurerId.\n",
      "   - HealthPlanPolicyId (integer): The unique identifier of a policy.  child reference to HealthPlanPolicyMember.HealthPlanPolicyId.\n",
      "   - MemberId (integer): The unique identifier of a Member.  child reference to HealthPlanPolicyMember.MemberId.\n",
      "   - HealthPlanPolicyMemberStatusStartDate (date): The date that the member started having the policy status.\n",
      "   - HealthPlanPolicyMemberStatusEndDate (date): The date that the member ceased having the policy status.\n",
      "   - PolicyMemberStatusTypeId (integer): The unique identifier of a Policy Member Status Type.  child reference to PolicyMemberStatusType.PolicyMemberStatusTypeId.\n",
      "   - PolicyChangeReasonTypeId (integer): The unique identifier of a Policy Change Reason Type.  child reference to PolicyChangeReasonType.PolicyChangeReasonTypeId.\n",
      "   - HealthPlanPolicyMemberStatusNote (string): A note, comment or additional information regarding the health plan policy member status.\n",
      "# Table: 'HealthInsuranceClaimAuthorizationType' (Health Insurance Claim Authorization Type): The authorization for the associated Health Insurance Claim.Ex:- preauthorization- predetermination\n",
      "# Columns:\n",
      "   - HealthInsuranceClaimAuthorizationTypeId (integer): The unique identifier of a health insurance claim authorization type.\n",
      "   - HealthInsuranceClaimAuthorizationTypeName (string): The name of a health insurance claim authorization type.\n",
      "   - HealthInsuranceClaimAuthorizationTypeDescription (string): The description of a health insurance claim authorization type.\n",
      "# Table: 'HealthInsuranceClaimReserve' (Health Insurance Claim Reserve): The reserve allocated for a Health Insurance Claim Reserve for a specific claim.\n",
      "# Columns:\n",
      "   - ClaimId (long): The unique identifier of a Claim.  child reference to HealthInsuranceClaim.ClaimId.\n",
      "   - HealthInsuranceClaimReserveTypeId (integer): The unique identifier of a Health Insurance Claim Reserve Type.  child reference to HealthInsuranceClaimReserveType.HealthInsuranceClaimReserveTypeId.\n",
      "   - HealthInsuranceClaimReserveDate (date): The date that the associated Health Insurance Claim Reserve was effective.\n",
      "   - HealthInsuranceClaimReserveNote (string): A note, comment or additional information regarding the Health Insurance Claim Reserve.\n",
      "   - HealthInsuranceClaimReserveAmount (decimal): The amount of the Health Insurance Claim Reserve.\n",
      "# Table: 'ClaimStatusType' (Claim Status Type): The status of the associated Claim.Ex:- Submitted- Open- Closed- Filed- Under Review- Contested- Uncontested- Pending arbitration- Settled/\n",
      "# Columns:\n",
      "   - ClaimStatusTypeId (integer): The unique identifier of a claim status type.\n",
      "   - ClaimStatusTypeName (string): The name of a claim status type.\n",
      "   - ClaimStatusTypeDescription (string): The description of a claim status type.\n",
      "# Table: 'HealthPlanPolicyStatus' (Health Plan Policy Status): The status of the associated policy.Ex:- Paid/In Good Standing- Delinquent- Pending Closure- Closed For Non-Payment- Closed Due To Fraud- Unde\n",
      "# Columns:\n",
      "   - HealthPlanPolicyStatusId (integer): The unique identifier of a health plan policy status.\n",
      "   - HealthPlanPolicyStatusName (string): The name of a health plan policy status.\n",
      "   - HealthPlanPolicyStatusDescription (string): The description of a health plan policy status.\n",
      "# Table: 'HealthPlanServiceProviderFacilityMedicalProcedureStatus' (Health Plan Service Provider Facility Medical Procedure Status): The status of the associated Medical Procedure at the Service Provider Facility under the associated Health Plan for the indicated period.\n",
      "# Columns:\n",
      "   - HealthPlanId (long): The unique identifier of a Health Plan.  child reference to HealthPlanServiceProviderFacilityMedicalProcedure.HealthPlanId.\n",
      "   - ServiceProviderId (integer): The unique identifier of a Service Provider.  child reference to HealthPlanServiceProviderFacilityMedicalProcedure.ServiceProviderId.\n",
      "   - HealthcareFacilityId (integer): The unique identifier of a Service Provider Facility.  child reference to HealthPlanServiceProviderFacilityMedicalProcedure.HealthcareFacilityId.\n",
      "   - MedicalProcedureId (long): The unique identifier of a Medical Procedure.  child reference to HealthPlanServiceProviderFacilityMedicalProcedure.MedicalProcedureId.\n",
      "   - MedicalProcedureStatusTypeId (integer): The unique identifier of a Medical Procedure Status Type.  child reference to MedicalProcedureStatusType.MedicalProcedureStatusTypeId.\n",
      "   - PeriodStartDate (date): The start period date that the Procedure is offered by the Service Provider at the associated Facility under the Health Plan.  child reference to HealthPlanServiceProviderFacilityMedicalProcedure.PeriodStartDate.\n",
      "   - PeriodEndDate (date): The period end date for which the associated status is defined.\n",
      "   - MedicalProcedureNote (string): A note, comment or additional information regarding the associated Medical Procedure status.\n",
      "# Table: 'InsurancePolicyStatusType' (Insurance Policy Status Type): The current status of the Insurance Policy.Ex:- in force / active- denied renewal- cancelled by customer- cancelled by company- unpaid / overdu\n",
      "# Columns:\n",
      "   - InsurancePolicyStatusTypeId (integer): The unique identifier of an Insurance Policy Status Type.\n",
      "   - InsurancePolicyStatusTypeName (string): The name of an Insurance Policy Status Type.\n",
      "   - InsurancePolicyStatusTypeDescription (string): The description of an Insurance Policy Status Type.\n",
      "# Table: 'InsuranceClaim' (Insurance Claim): A request to the insurance company by the policyholder for payment of a loss in accordance with the policy contract.A request to an insurance compan\n",
      "# Columns:\n",
      "   - ClaimId (long): The unique identifier of a Claim.\n",
      "   - InsuranceClaimDescription (string): The description of an insurance claim.\n",
      "   - InsuranceClaimStatement (string): A statement regarding the insurance claim.\n",
      "   - CertificateOfSatisfactionNumber (integer): A form signed by the insured when he or she takes delivery of the car from the repairer. It certifies that he or she is satisfied with the vehicle ope\n",
      "   - ElectronicClaimIndicator (boolean): A digital representation of a medical bill generated by a provider or by the provider's billing agent for submission using telecommunications to a hea\n",
      "   - TotalLossIndicator (boolean): Total Loss: The condition of an automobile or other property when damage is so extensive that repair costs would exceed the value of the vehicle or pr\n",
      "   - ClaimTypeId (integer): The unique identifier of a Claim Type.  child reference to ClaimType.ClaimTypeId.\n",
      "   - ClaimCategoryId (integer): The unique identifier of a claim category.  child reference to ClaimCategory.ClaimCategoryId.\n",
      "   - CatastropheId (integer): The unique identifier of a Catastrophe.  child reference to Catastrophe.CatastropheId.\n",
      "   - OccurrenceId (integer): The unique identifier of the Occurrence.\n",
      "   - InsurancePolicyId (integer): The unique identifier of an Insurance Policy.  child reference to InsurancePolicy.InsurancePolicyId.\n",
      "# Table: 'HealthPlanServiceProviderFacilityOutcomeBasedTreatmentProgramStatus' (Health Plan Service Provider Facility Outcome-Based Treatment Program Status): The status of the associated Outcome-Based Treatment Program at the Service Provider Facility under the associated Health Plan for the indicated perio\n",
      "# Columns:\n",
      "   - HealthPlanId (long): The unique identifier of a Health Plan.  child reference to HealthPlanServiceProviderFacilityOutcomeBasedTreatmentProgram.HealthPlanId.\n",
      "   - ServiceProviderId (integer): The unique identifier of a Service Provider.  child reference to HealthPlanServiceProviderFacilityOutcomeBasedTreatmentProgram.ServiceProviderId.\n",
      "   - HealthcareFacilityId (integer): The unique identifier of a Service Provider Facility.  child reference to HealthPlanServiceProviderFacilityOutcomeBasedTreatmentProgram.HealthcareFacilityId.\n",
      "   - OutcomeBasedTreatmentProgramId (long): The unique identifier of an Outcome-Based Treatment Program.  child reference to HealthPlanServiceProviderFacilityOutcomeBasedTreatmentProgram.OutcomeBasedTreatmentProgramId.\n",
      "   - OutcomeBasedTreatmentProgramStatusTypeId (integer): The unique identifier of a Test Status Type.  child reference to OutcomeBasedTreatmentProgramStatusType.OutcomeBasedTreatmentProgramStatusTypeId.\n",
      "   - PeriodStartDate (date): The start period date that the Outcome-Based Treatment Program is offered by the Service Provider at the associated Facility under the Health Plan.  child reference to HealthPlanServiceProviderFacilityOutcomeBasedTreatmentProgram.PeriodStartDate.\n",
      "   - PeriodEndDate (date): The end period date that the Outcome-Based Treatment Program is offered by the Service Provider at the associated Facility under the Health Plan.\n",
      "   - OutcomeBasedTreatmentProgramStatusNote (string): A note, comment or additional information regarding the associated outcome-based treatment program status.\n",
      "\n",
      "Please answer the following question. First explain the purpose of the tables relevant to the question, and if needed provide a query to retrieve the data.\n",
      "Question:where can I find info about patients health insurance claims status\n",
      "\n"
     ]
    }
   ],
   "source": [
    "prompt = f\"\"\"\n",
    "You are an AI assistant that answers questions about database schemas and tables.\n",
    "Here are the relevant tables and columns:\n",
    "{rel_tables}\n",
    "\n",
    "Please answer the following question. First explain the purpose of the tables relevant to the question, and if needed provide a query to retrieve the data.\n",
    "Question:{sentence}\n",
    "\"\"\"\n",
    "\n",
    "print(prompt)"
   ]
  },
  {
   "cell_type": "code",
   "execution_count": null,
   "metadata": {},
   "outputs": [],
   "source": [
    "\n"
   ]
  },
  {
   "cell_type": "code",
   "execution_count": null,
   "metadata": {},
   "outputs": [],
   "source": [
    "import requests\n",
    "# send request to ollama\n",
    "response = requests.post(\n",
    "    \"http://localhost:11434/api/generate\",\n",
    "    json={\n",
    "        \"model\": \"llama3.2\",\n",
    "        \"prompt\": prompt,\n",
    "        \"options\": {\n",
    "            \"temperature\": 0.1,\n",
    "        },\n",
    "        \"stream\": False\n",
    "    }\n",
    ")\n",
    "\n",
    "# extract the SQL query from response\n",
    "sql_query = response.json()[\"response\"]\n",
    "print(\"Generated SQL query:\")\n",
    "print(sql_query)"
   ]
  },
  {
   "cell_type": "code",
   "execution_count": null,
   "metadata": {},
   "outputs": [],
   "source": []
  }
 ],
 "metadata": {
  "kernelspec": {
   "display_name": "Python 3",
   "language": "python",
   "name": "python3"
  },
  "language_info": {
   "codemirror_mode": {
    "name": "ipython",
    "version": 3
   },
   "file_extension": ".py",
   "mimetype": "text/x-python",
   "name": "python",
   "nbconvert_exporter": "python",
   "pygments_lexer": "ipython3",
   "version": "3.10.12"
  }
 },
 "nbformat": 4,
 "nbformat_minor": 2
}
