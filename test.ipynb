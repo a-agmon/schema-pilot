{
 "cells": [
  {
   "cell_type": "code",
   "execution_count": 72,
   "metadata": {},
   "outputs": [
    {
     "name": "stdout",
     "output_type": "stream",
     "text": [
      "Requirement already satisfied: lancedb in /Library/Frameworks/Python.framework/Versions/3.13/lib/python3.13/site-packages (0.16.0)\n",
      "Requirement already satisfied: deprecation in /Library/Frameworks/Python.framework/Versions/3.13/lib/python3.13/site-packages (from lancedb) (2.1.0)\n",
      "Requirement already satisfied: nest-asyncio~=1.0 in /Users/alonagmon/Library/Python/3.13/lib/python/site-packages (from lancedb) (1.6.0)\n",
      "Requirement already satisfied: pylance==0.19.2 in /Library/Frameworks/Python.framework/Versions/3.13/lib/python3.13/site-packages (from lancedb) (0.19.2)\n",
      "Requirement already satisfied: tqdm>=4.27.0 in /Library/Frameworks/Python.framework/Versions/3.13/lib/python3.13/site-packages (from lancedb) (4.67.0)\n",
      "Requirement already satisfied: pydantic>=1.10 in /Library/Frameworks/Python.framework/Versions/3.13/lib/python3.13/site-packages (from lancedb) (2.9.2)\n",
      "Requirement already satisfied: packaging in /Users/alonagmon/Library/Python/3.13/lib/python/site-packages (from lancedb) (24.2)\n",
      "Requirement already satisfied: overrides>=0.7 in /Library/Frameworks/Python.framework/Versions/3.13/lib/python3.13/site-packages (from lancedb) (7.7.0)\n",
      "Requirement already satisfied: pyarrow>=12 in /Library/Frameworks/Python.framework/Versions/3.13/lib/python3.13/site-packages (from pylance==0.19.2->lancedb) (18.0.0)\n",
      "Requirement already satisfied: numpy>=1.22 in /Library/Frameworks/Python.framework/Versions/3.13/lib/python3.13/site-packages (from pylance==0.19.2->lancedb) (2.1.3)\n",
      "Requirement already satisfied: annotated-types>=0.6.0 in /Library/Frameworks/Python.framework/Versions/3.13/lib/python3.13/site-packages (from pydantic>=1.10->lancedb) (0.7.0)\n",
      "Requirement already satisfied: pydantic-core==2.23.4 in /Library/Frameworks/Python.framework/Versions/3.13/lib/python3.13/site-packages (from pydantic>=1.10->lancedb) (2.23.4)\n",
      "Requirement already satisfied: typing-extensions>=4.12.2 in /Library/Frameworks/Python.framework/Versions/3.13/lib/python3.13/site-packages (from pydantic>=1.10->lancedb) (4.12.2)\n",
      "\n",
      "\u001b[1m[\u001b[0m\u001b[34;49mnotice\u001b[0m\u001b[1;39;49m]\u001b[0m\u001b[39;49m A new release of pip is available: \u001b[0m\u001b[31;49m24.2\u001b[0m\u001b[39;49m -> \u001b[0m\u001b[32;49m24.3.1\u001b[0m\n",
      "\u001b[1m[\u001b[0m\u001b[34;49mnotice\u001b[0m\u001b[1;39;49m]\u001b[0m\u001b[39;49m To update, run: \u001b[0m\u001b[32;49mpython3 -m pip install --upgrade pip\u001b[0m\n",
      "Note: you may need to restart the kernel to use updated packages.\n",
      "Requirement already satisfied: pandas in /Library/Frameworks/Python.framework/Versions/3.13/lib/python3.13/site-packages (2.2.3)\n",
      "Requirement already satisfied: numpy>=1.26.0 in /Library/Frameworks/Python.framework/Versions/3.13/lib/python3.13/site-packages (from pandas) (2.1.3)\n",
      "Requirement already satisfied: python-dateutil>=2.8.2 in /Users/alonagmon/Library/Python/3.13/lib/python/site-packages (from pandas) (2.9.0.post0)\n",
      "Requirement already satisfied: pytz>=2020.1 in /Library/Frameworks/Python.framework/Versions/3.13/lib/python3.13/site-packages (from pandas) (2024.2)\n",
      "Requirement already satisfied: tzdata>=2022.7 in /Library/Frameworks/Python.framework/Versions/3.13/lib/python3.13/site-packages (from pandas) (2024.2)\n",
      "Requirement already satisfied: six>=1.5 in /Users/alonagmon/Library/Python/3.13/lib/python/site-packages (from python-dateutil>=2.8.2->pandas) (1.16.0)\n",
      "\n",
      "\u001b[1m[\u001b[0m\u001b[34;49mnotice\u001b[0m\u001b[1;39;49m]\u001b[0m\u001b[39;49m A new release of pip is available: \u001b[0m\u001b[31;49m24.2\u001b[0m\u001b[39;49m -> \u001b[0m\u001b[32;49m24.3.1\u001b[0m\n",
      "\u001b[1m[\u001b[0m\u001b[34;49mnotice\u001b[0m\u001b[1;39;49m]\u001b[0m\u001b[39;49m To update, run: \u001b[0m\u001b[32;49mpython3 -m pip install --upgrade pip\u001b[0m\n",
      "Note: you may need to restart the kernel to use updated packages.\n",
      "Requirement already satisfied: pyarrow in /Library/Frameworks/Python.framework/Versions/3.13/lib/python3.13/site-packages (18.0.0)\n",
      "\n",
      "\u001b[1m[\u001b[0m\u001b[34;49mnotice\u001b[0m\u001b[1;39;49m]\u001b[0m\u001b[39;49m A new release of pip is available: \u001b[0m\u001b[31;49m24.2\u001b[0m\u001b[39;49m -> \u001b[0m\u001b[32;49m24.3.1\u001b[0m\n",
      "\u001b[1m[\u001b[0m\u001b[34;49mnotice\u001b[0m\u001b[1;39;49m]\u001b[0m\u001b[39;49m To update, run: \u001b[0m\u001b[32;49mpython3 -m pip install --upgrade pip\u001b[0m\n",
      "Note: you may need to restart the kernel to use updated packages.\n",
      "Requirement already satisfied: ipywidgets in /Library/Frameworks/Python.framework/Versions/3.13/lib/python3.13/site-packages (8.1.5)\n",
      "Requirement already satisfied: comm>=0.1.3 in /Users/alonagmon/Library/Python/3.13/lib/python/site-packages (from ipywidgets) (0.2.2)\n",
      "Requirement already satisfied: ipython>=6.1.0 in /Users/alonagmon/Library/Python/3.13/lib/python/site-packages (from ipywidgets) (8.29.0)\n",
      "Requirement already satisfied: traitlets>=4.3.1 in /Users/alonagmon/Library/Python/3.13/lib/python/site-packages (from ipywidgets) (5.14.3)\n",
      "Requirement already satisfied: widgetsnbextension~=4.0.12 in /Library/Frameworks/Python.framework/Versions/3.13/lib/python3.13/site-packages (from ipywidgets) (4.0.13)\n",
      "Requirement already satisfied: jupyterlab-widgets~=3.0.12 in /Library/Frameworks/Python.framework/Versions/3.13/lib/python3.13/site-packages (from ipywidgets) (3.0.13)\n",
      "Requirement already satisfied: decorator in /Users/alonagmon/Library/Python/3.13/lib/python/site-packages (from ipython>=6.1.0->ipywidgets) (5.1.1)\n",
      "Requirement already satisfied: jedi>=0.16 in /Users/alonagmon/Library/Python/3.13/lib/python/site-packages (from ipython>=6.1.0->ipywidgets) (0.19.2)\n",
      "Requirement already satisfied: matplotlib-inline in /Users/alonagmon/Library/Python/3.13/lib/python/site-packages (from ipython>=6.1.0->ipywidgets) (0.1.7)\n",
      "Requirement already satisfied: prompt-toolkit<3.1.0,>=3.0.41 in /Users/alonagmon/Library/Python/3.13/lib/python/site-packages (from ipython>=6.1.0->ipywidgets) (3.0.48)\n",
      "Requirement already satisfied: pygments>=2.4.0 in /Users/alonagmon/Library/Python/3.13/lib/python/site-packages (from ipython>=6.1.0->ipywidgets) (2.18.0)\n",
      "Requirement already satisfied: stack-data in /Users/alonagmon/Library/Python/3.13/lib/python/site-packages (from ipython>=6.1.0->ipywidgets) (0.6.3)\n",
      "Requirement already satisfied: pexpect>4.3 in /Users/alonagmon/Library/Python/3.13/lib/python/site-packages (from ipython>=6.1.0->ipywidgets) (4.9.0)\n",
      "Requirement already satisfied: parso<0.9.0,>=0.8.4 in /Users/alonagmon/Library/Python/3.13/lib/python/site-packages (from jedi>=0.16->ipython>=6.1.0->ipywidgets) (0.8.4)\n",
      "Requirement already satisfied: ptyprocess>=0.5 in /Users/alonagmon/Library/Python/3.13/lib/python/site-packages (from pexpect>4.3->ipython>=6.1.0->ipywidgets) (0.7.0)\n",
      "Requirement already satisfied: wcwidth in /Users/alonagmon/Library/Python/3.13/lib/python/site-packages (from prompt-toolkit<3.1.0,>=3.0.41->ipython>=6.1.0->ipywidgets) (0.2.13)\n",
      "Requirement already satisfied: executing>=1.2.0 in /Users/alonagmon/Library/Python/3.13/lib/python/site-packages (from stack-data->ipython>=6.1.0->ipywidgets) (2.1.0)\n",
      "Requirement already satisfied: asttokens>=2.1.0 in /Users/alonagmon/Library/Python/3.13/lib/python/site-packages (from stack-data->ipython>=6.1.0->ipywidgets) (2.4.1)\n",
      "Requirement already satisfied: pure-eval in /Users/alonagmon/Library/Python/3.13/lib/python/site-packages (from stack-data->ipython>=6.1.0->ipywidgets) (0.2.3)\n",
      "Requirement already satisfied: six>=1.12.0 in /Users/alonagmon/Library/Python/3.13/lib/python/site-packages (from asttokens>=2.1.0->stack-data->ipython>=6.1.0->ipywidgets) (1.16.0)\n",
      "\n",
      "\u001b[1m[\u001b[0m\u001b[34;49mnotice\u001b[0m\u001b[1;39;49m]\u001b[0m\u001b[39;49m A new release of pip is available: \u001b[0m\u001b[31;49m24.2\u001b[0m\u001b[39;49m -> \u001b[0m\u001b[32;49m24.3.1\u001b[0m\n",
      "\u001b[1m[\u001b[0m\u001b[34;49mnotice\u001b[0m\u001b[1;39;49m]\u001b[0m\u001b[39;49m To update, run: \u001b[0m\u001b[32;49mpython3 -m pip install --upgrade pip\u001b[0m\n",
      "Note: you may need to restart the kernel to use updated packages.\n",
      "Requirement already satisfied: jupyter in /Library/Frameworks/Python.framework/Versions/3.13/lib/python3.13/site-packages (1.1.1)\n",
      "Requirement already satisfied: notebook in /Library/Frameworks/Python.framework/Versions/3.13/lib/python3.13/site-packages (from jupyter) (7.2.2)\n",
      "Requirement already satisfied: jupyter-console in /Library/Frameworks/Python.framework/Versions/3.13/lib/python3.13/site-packages (from jupyter) (6.6.3)\n",
      "Requirement already satisfied: nbconvert in /Library/Frameworks/Python.framework/Versions/3.13/lib/python3.13/site-packages (from jupyter) (7.16.4)\n",
      "Requirement already satisfied: ipykernel in /Users/alonagmon/Library/Python/3.13/lib/python/site-packages (from jupyter) (6.29.5)\n",
      "Requirement already satisfied: ipywidgets in /Library/Frameworks/Python.framework/Versions/3.13/lib/python3.13/site-packages (from jupyter) (8.1.5)\n",
      "Requirement already satisfied: jupyterlab in /Library/Frameworks/Python.framework/Versions/3.13/lib/python3.13/site-packages (from jupyter) (4.2.6)\n",
      "Requirement already satisfied: appnope in /Users/alonagmon/Library/Python/3.13/lib/python/site-packages (from ipykernel->jupyter) (0.1.4)\n",
      "Requirement already satisfied: comm>=0.1.1 in /Users/alonagmon/Library/Python/3.13/lib/python/site-packages (from ipykernel->jupyter) (0.2.2)\n",
      "Requirement already satisfied: debugpy>=1.6.5 in /Users/alonagmon/Library/Python/3.13/lib/python/site-packages (from ipykernel->jupyter) (1.8.8)\n",
      "Requirement already satisfied: ipython>=7.23.1 in /Users/alonagmon/Library/Python/3.13/lib/python/site-packages (from ipykernel->jupyter) (8.29.0)\n",
      "Requirement already satisfied: jupyter-client>=6.1.12 in /Users/alonagmon/Library/Python/3.13/lib/python/site-packages (from ipykernel->jupyter) (8.6.3)\n",
      "Requirement already satisfied: jupyter-core!=5.0.*,>=4.12 in /Users/alonagmon/Library/Python/3.13/lib/python/site-packages (from ipykernel->jupyter) (5.7.2)\n",
      "Requirement already satisfied: matplotlib-inline>=0.1 in /Users/alonagmon/Library/Python/3.13/lib/python/site-packages (from ipykernel->jupyter) (0.1.7)\n",
      "Requirement already satisfied: nest-asyncio in /Users/alonagmon/Library/Python/3.13/lib/python/site-packages (from ipykernel->jupyter) (1.6.0)\n",
      "Requirement already satisfied: packaging in /Users/alonagmon/Library/Python/3.13/lib/python/site-packages (from ipykernel->jupyter) (24.2)\n",
      "Requirement already satisfied: psutil in /Users/alonagmon/Library/Python/3.13/lib/python/site-packages (from ipykernel->jupyter) (6.1.0)\n",
      "Requirement already satisfied: pyzmq>=24 in /Users/alonagmon/Library/Python/3.13/lib/python/site-packages (from ipykernel->jupyter) (26.2.0)\n",
      "Requirement already satisfied: tornado>=6.1 in /Users/alonagmon/Library/Python/3.13/lib/python/site-packages (from ipykernel->jupyter) (6.4.1)\n",
      "Requirement already satisfied: traitlets>=5.4.0 in /Users/alonagmon/Library/Python/3.13/lib/python/site-packages (from ipykernel->jupyter) (5.14.3)\n",
      "Requirement already satisfied: widgetsnbextension~=4.0.12 in /Library/Frameworks/Python.framework/Versions/3.13/lib/python3.13/site-packages (from ipywidgets->jupyter) (4.0.13)\n",
      "Requirement already satisfied: jupyterlab-widgets~=3.0.12 in /Library/Frameworks/Python.framework/Versions/3.13/lib/python3.13/site-packages (from ipywidgets->jupyter) (3.0.13)\n",
      "Requirement already satisfied: prompt-toolkit>=3.0.30 in /Users/alonagmon/Library/Python/3.13/lib/python/site-packages (from jupyter-console->jupyter) (3.0.48)\n",
      "Requirement already satisfied: pygments in /Users/alonagmon/Library/Python/3.13/lib/python/site-packages (from jupyter-console->jupyter) (2.18.0)\n",
      "Requirement already satisfied: async-lru>=1.0.0 in /Library/Frameworks/Python.framework/Versions/3.13/lib/python3.13/site-packages (from jupyterlab->jupyter) (2.0.4)\n",
      "Requirement already satisfied: httpx>=0.25.0 in /Library/Frameworks/Python.framework/Versions/3.13/lib/python3.13/site-packages (from jupyterlab->jupyter) (0.27.2)\n",
      "Requirement already satisfied: jinja2>=3.0.3 in /Library/Frameworks/Python.framework/Versions/3.13/lib/python3.13/site-packages (from jupyterlab->jupyter) (3.1.4)\n",
      "Requirement already satisfied: jupyter-lsp>=2.0.0 in /Library/Frameworks/Python.framework/Versions/3.13/lib/python3.13/site-packages (from jupyterlab->jupyter) (2.2.5)\n",
      "Requirement already satisfied: jupyter-server<3,>=2.4.0 in /Library/Frameworks/Python.framework/Versions/3.13/lib/python3.13/site-packages (from jupyterlab->jupyter) (2.14.2)\n",
      "Requirement already satisfied: jupyterlab-server<3,>=2.27.1 in /Library/Frameworks/Python.framework/Versions/3.13/lib/python3.13/site-packages (from jupyterlab->jupyter) (2.27.3)\n",
      "Requirement already satisfied: notebook-shim>=0.2 in /Library/Frameworks/Python.framework/Versions/3.13/lib/python3.13/site-packages (from jupyterlab->jupyter) (0.2.4)\n",
      "Requirement already satisfied: setuptools>=40.1.0 in /Library/Frameworks/Python.framework/Versions/3.13/lib/python3.13/site-packages (from jupyterlab->jupyter) (75.5.0)\n",
      "Requirement already satisfied: beautifulsoup4 in /Library/Frameworks/Python.framework/Versions/3.13/lib/python3.13/site-packages (from nbconvert->jupyter) (4.12.3)\n",
      "Requirement already satisfied: bleach!=5.0.0 in /Library/Frameworks/Python.framework/Versions/3.13/lib/python3.13/site-packages (from nbconvert->jupyter) (6.2.0)\n",
      "Requirement already satisfied: defusedxml in /Library/Frameworks/Python.framework/Versions/3.13/lib/python3.13/site-packages (from nbconvert->jupyter) (0.7.1)\n",
      "Requirement already satisfied: jupyterlab-pygments in /Library/Frameworks/Python.framework/Versions/3.13/lib/python3.13/site-packages (from nbconvert->jupyter) (0.3.0)\n",
      "Requirement already satisfied: markupsafe>=2.0 in /Library/Frameworks/Python.framework/Versions/3.13/lib/python3.13/site-packages (from nbconvert->jupyter) (3.0.2)\n",
      "Requirement already satisfied: mistune<4,>=2.0.3 in /Library/Frameworks/Python.framework/Versions/3.13/lib/python3.13/site-packages (from nbconvert->jupyter) (3.0.2)\n",
      "Requirement already satisfied: nbclient>=0.5.0 in /Library/Frameworks/Python.framework/Versions/3.13/lib/python3.13/site-packages (from nbconvert->jupyter) (0.10.0)\n",
      "Requirement already satisfied: nbformat>=5.7 in /Library/Frameworks/Python.framework/Versions/3.13/lib/python3.13/site-packages (from nbconvert->jupyter) (5.10.4)\n",
      "Requirement already satisfied: pandocfilters>=1.4.1 in /Library/Frameworks/Python.framework/Versions/3.13/lib/python3.13/site-packages (from nbconvert->jupyter) (1.5.1)\n",
      "Requirement already satisfied: tinycss2 in /Library/Frameworks/Python.framework/Versions/3.13/lib/python3.13/site-packages (from nbconvert->jupyter) (1.4.0)\n",
      "Requirement already satisfied: webencodings in /Library/Frameworks/Python.framework/Versions/3.13/lib/python3.13/site-packages (from bleach!=5.0.0->nbconvert->jupyter) (0.5.1)\n",
      "Requirement already satisfied: anyio in /Library/Frameworks/Python.framework/Versions/3.13/lib/python3.13/site-packages (from httpx>=0.25.0->jupyterlab->jupyter) (4.6.2.post1)\n",
      "Requirement already satisfied: certifi in /Library/Frameworks/Python.framework/Versions/3.13/lib/python3.13/site-packages (from httpx>=0.25.0->jupyterlab->jupyter) (2024.8.30)\n",
      "Requirement already satisfied: httpcore==1.* in /Library/Frameworks/Python.framework/Versions/3.13/lib/python3.13/site-packages (from httpx>=0.25.0->jupyterlab->jupyter) (1.0.7)\n",
      "Requirement already satisfied: idna in /Library/Frameworks/Python.framework/Versions/3.13/lib/python3.13/site-packages (from httpx>=0.25.0->jupyterlab->jupyter) (3.10)\n",
      "Requirement already satisfied: sniffio in /Library/Frameworks/Python.framework/Versions/3.13/lib/python3.13/site-packages (from httpx>=0.25.0->jupyterlab->jupyter) (1.3.1)\n",
      "Requirement already satisfied: h11<0.15,>=0.13 in /Library/Frameworks/Python.framework/Versions/3.13/lib/python3.13/site-packages (from httpcore==1.*->httpx>=0.25.0->jupyterlab->jupyter) (0.14.0)\n",
      "Requirement already satisfied: decorator in /Users/alonagmon/Library/Python/3.13/lib/python/site-packages (from ipython>=7.23.1->ipykernel->jupyter) (5.1.1)\n",
      "Requirement already satisfied: jedi>=0.16 in /Users/alonagmon/Library/Python/3.13/lib/python/site-packages (from ipython>=7.23.1->ipykernel->jupyter) (0.19.2)\n",
      "Requirement already satisfied: stack-data in /Users/alonagmon/Library/Python/3.13/lib/python/site-packages (from ipython>=7.23.1->ipykernel->jupyter) (0.6.3)\n",
      "Requirement already satisfied: pexpect>4.3 in /Users/alonagmon/Library/Python/3.13/lib/python/site-packages (from ipython>=7.23.1->ipykernel->jupyter) (4.9.0)\n",
      "Requirement already satisfied: python-dateutil>=2.8.2 in /Users/alonagmon/Library/Python/3.13/lib/python/site-packages (from jupyter-client>=6.1.12->ipykernel->jupyter) (2.9.0.post0)\n",
      "Requirement already satisfied: platformdirs>=2.5 in /Users/alonagmon/Library/Python/3.13/lib/python/site-packages (from jupyter-core!=5.0.*,>=4.12->ipykernel->jupyter) (4.3.6)\n",
      "Requirement already satisfied: argon2-cffi>=21.1 in /Library/Frameworks/Python.framework/Versions/3.13/lib/python3.13/site-packages (from jupyter-server<3,>=2.4.0->jupyterlab->jupyter) (23.1.0)\n",
      "Requirement already satisfied: jupyter-events>=0.9.0 in /Library/Frameworks/Python.framework/Versions/3.13/lib/python3.13/site-packages (from jupyter-server<3,>=2.4.0->jupyterlab->jupyter) (0.10.0)\n",
      "Requirement already satisfied: jupyter-server-terminals>=0.4.4 in /Library/Frameworks/Python.framework/Versions/3.13/lib/python3.13/site-packages (from jupyter-server<3,>=2.4.0->jupyterlab->jupyter) (0.5.3)\n",
      "Requirement already satisfied: overrides>=5.0 in /Library/Frameworks/Python.framework/Versions/3.13/lib/python3.13/site-packages (from jupyter-server<3,>=2.4.0->jupyterlab->jupyter) (7.7.0)\n",
      "Requirement already satisfied: prometheus-client>=0.9 in /Library/Frameworks/Python.framework/Versions/3.13/lib/python3.13/site-packages (from jupyter-server<3,>=2.4.0->jupyterlab->jupyter) (0.21.0)\n",
      "Requirement already satisfied: send2trash>=1.8.2 in /Library/Frameworks/Python.framework/Versions/3.13/lib/python3.13/site-packages (from jupyter-server<3,>=2.4.0->jupyterlab->jupyter) (1.8.3)\n",
      "Requirement already satisfied: terminado>=0.8.3 in /Library/Frameworks/Python.framework/Versions/3.13/lib/python3.13/site-packages (from jupyter-server<3,>=2.4.0->jupyterlab->jupyter) (0.18.1)\n",
      "Requirement already satisfied: websocket-client>=1.7 in /Library/Frameworks/Python.framework/Versions/3.13/lib/python3.13/site-packages (from jupyter-server<3,>=2.4.0->jupyterlab->jupyter) (1.8.0)\n",
      "Requirement already satisfied: babel>=2.10 in /Library/Frameworks/Python.framework/Versions/3.13/lib/python3.13/site-packages (from jupyterlab-server<3,>=2.27.1->jupyterlab->jupyter) (2.16.0)\n",
      "Requirement already satisfied: json5>=0.9.0 in /Library/Frameworks/Python.framework/Versions/3.13/lib/python3.13/site-packages (from jupyterlab-server<3,>=2.27.1->jupyterlab->jupyter) (0.9.28)\n",
      "Requirement already satisfied: jsonschema>=4.18.0 in /Library/Frameworks/Python.framework/Versions/3.13/lib/python3.13/site-packages (from jupyterlab-server<3,>=2.27.1->jupyterlab->jupyter) (4.23.0)\n",
      "Requirement already satisfied: requests>=2.31 in /Library/Frameworks/Python.framework/Versions/3.13/lib/python3.13/site-packages (from jupyterlab-server<3,>=2.27.1->jupyterlab->jupyter) (2.32.3)\n",
      "Requirement already satisfied: fastjsonschema>=2.15 in /Library/Frameworks/Python.framework/Versions/3.13/lib/python3.13/site-packages (from nbformat>=5.7->nbconvert->jupyter) (2.20.0)\n",
      "Requirement already satisfied: wcwidth in /Users/alonagmon/Library/Python/3.13/lib/python/site-packages (from prompt-toolkit>=3.0.30->jupyter-console->jupyter) (0.2.13)\n",
      "Requirement already satisfied: soupsieve>1.2 in /Library/Frameworks/Python.framework/Versions/3.13/lib/python3.13/site-packages (from beautifulsoup4->nbconvert->jupyter) (2.6)\n",
      "Requirement already satisfied: argon2-cffi-bindings in /Library/Frameworks/Python.framework/Versions/3.13/lib/python3.13/site-packages (from argon2-cffi>=21.1->jupyter-server<3,>=2.4.0->jupyterlab->jupyter) (21.2.0)\n",
      "Requirement already satisfied: parso<0.9.0,>=0.8.4 in /Users/alonagmon/Library/Python/3.13/lib/python/site-packages (from jedi>=0.16->ipython>=7.23.1->ipykernel->jupyter) (0.8.4)\n",
      "Requirement already satisfied: attrs>=22.2.0 in /Library/Frameworks/Python.framework/Versions/3.13/lib/python3.13/site-packages (from jsonschema>=4.18.0->jupyterlab-server<3,>=2.27.1->jupyterlab->jupyter) (24.2.0)\n",
      "Requirement already satisfied: jsonschema-specifications>=2023.03.6 in /Library/Frameworks/Python.framework/Versions/3.13/lib/python3.13/site-packages (from jsonschema>=4.18.0->jupyterlab-server<3,>=2.27.1->jupyterlab->jupyter) (2024.10.1)\n",
      "Requirement already satisfied: referencing>=0.28.4 in /Library/Frameworks/Python.framework/Versions/3.13/lib/python3.13/site-packages (from jsonschema>=4.18.0->jupyterlab-server<3,>=2.27.1->jupyterlab->jupyter) (0.35.1)\n",
      "Requirement already satisfied: rpds-py>=0.7.1 in /Library/Frameworks/Python.framework/Versions/3.13/lib/python3.13/site-packages (from jsonschema>=4.18.0->jupyterlab-server<3,>=2.27.1->jupyterlab->jupyter) (0.21.0)\n",
      "Requirement already satisfied: python-json-logger>=2.0.4 in /Library/Frameworks/Python.framework/Versions/3.13/lib/python3.13/site-packages (from jupyter-events>=0.9.0->jupyter-server<3,>=2.4.0->jupyterlab->jupyter) (2.0.7)\n",
      "Requirement already satisfied: pyyaml>=5.3 in /Library/Frameworks/Python.framework/Versions/3.13/lib/python3.13/site-packages (from jupyter-events>=0.9.0->jupyter-server<3,>=2.4.0->jupyterlab->jupyter) (6.0.2)\n",
      "Requirement already satisfied: rfc3339-validator in /Library/Frameworks/Python.framework/Versions/3.13/lib/python3.13/site-packages (from jupyter-events>=0.9.0->jupyter-server<3,>=2.4.0->jupyterlab->jupyter) (0.1.4)\n",
      "Requirement already satisfied: rfc3986-validator>=0.1.1 in /Library/Frameworks/Python.framework/Versions/3.13/lib/python3.13/site-packages (from jupyter-events>=0.9.0->jupyter-server<3,>=2.4.0->jupyterlab->jupyter) (0.1.1)\n",
      "Requirement already satisfied: ptyprocess>=0.5 in /Users/alonagmon/Library/Python/3.13/lib/python/site-packages (from pexpect>4.3->ipython>=7.23.1->ipykernel->jupyter) (0.7.0)\n",
      "Requirement already satisfied: six>=1.5 in /Users/alonagmon/Library/Python/3.13/lib/python/site-packages (from python-dateutil>=2.8.2->jupyter-client>=6.1.12->ipykernel->jupyter) (1.16.0)\n",
      "Requirement already satisfied: charset-normalizer<4,>=2 in /Library/Frameworks/Python.framework/Versions/3.13/lib/python3.13/site-packages (from requests>=2.31->jupyterlab-server<3,>=2.27.1->jupyterlab->jupyter) (3.4.0)\n",
      "Requirement already satisfied: urllib3<3,>=1.21.1 in /Library/Frameworks/Python.framework/Versions/3.13/lib/python3.13/site-packages (from requests>=2.31->jupyterlab-server<3,>=2.27.1->jupyterlab->jupyter) (2.2.3)\n",
      "Requirement already satisfied: executing>=1.2.0 in /Users/alonagmon/Library/Python/3.13/lib/python/site-packages (from stack-data->ipython>=7.23.1->ipykernel->jupyter) (2.1.0)\n",
      "Requirement already satisfied: asttokens>=2.1.0 in /Users/alonagmon/Library/Python/3.13/lib/python/site-packages (from stack-data->ipython>=7.23.1->ipykernel->jupyter) (2.4.1)\n",
      "Requirement already satisfied: pure-eval in /Users/alonagmon/Library/Python/3.13/lib/python/site-packages (from stack-data->ipython>=7.23.1->ipykernel->jupyter) (0.2.3)\n",
      "Requirement already satisfied: fqdn in /Library/Frameworks/Python.framework/Versions/3.13/lib/python3.13/site-packages (from jsonschema[format-nongpl]>=4.18.0->jupyter-events>=0.9.0->jupyter-server<3,>=2.4.0->jupyterlab->jupyter) (1.5.1)\n",
      "Requirement already satisfied: isoduration in /Library/Frameworks/Python.framework/Versions/3.13/lib/python3.13/site-packages (from jsonschema[format-nongpl]>=4.18.0->jupyter-events>=0.9.0->jupyter-server<3,>=2.4.0->jupyterlab->jupyter) (20.11.0)\n",
      "Requirement already satisfied: jsonpointer>1.13 in /Library/Frameworks/Python.framework/Versions/3.13/lib/python3.13/site-packages (from jsonschema[format-nongpl]>=4.18.0->jupyter-events>=0.9.0->jupyter-server<3,>=2.4.0->jupyterlab->jupyter) (3.0.0)\n",
      "Requirement already satisfied: uri-template in /Library/Frameworks/Python.framework/Versions/3.13/lib/python3.13/site-packages (from jsonschema[format-nongpl]>=4.18.0->jupyter-events>=0.9.0->jupyter-server<3,>=2.4.0->jupyterlab->jupyter) (1.3.0)\n",
      "Requirement already satisfied: webcolors>=24.6.0 in /Library/Frameworks/Python.framework/Versions/3.13/lib/python3.13/site-packages (from jsonschema[format-nongpl]>=4.18.0->jupyter-events>=0.9.0->jupyter-server<3,>=2.4.0->jupyterlab->jupyter) (24.11.1)\n",
      "Requirement already satisfied: cffi>=1.0.1 in /Library/Frameworks/Python.framework/Versions/3.13/lib/python3.13/site-packages (from argon2-cffi-bindings->argon2-cffi>=21.1->jupyter-server<3,>=2.4.0->jupyterlab->jupyter) (1.17.1)\n",
      "Requirement already satisfied: pycparser in /Library/Frameworks/Python.framework/Versions/3.13/lib/python3.13/site-packages (from cffi>=1.0.1->argon2-cffi-bindings->argon2-cffi>=21.1->jupyter-server<3,>=2.4.0->jupyterlab->jupyter) (2.22)\n",
      "Requirement already satisfied: arrow>=0.15.0 in /Library/Frameworks/Python.framework/Versions/3.13/lib/python3.13/site-packages (from isoduration->jsonschema[format-nongpl]>=4.18.0->jupyter-events>=0.9.0->jupyter-server<3,>=2.4.0->jupyterlab->jupyter) (1.3.0)\n",
      "Requirement already satisfied: types-python-dateutil>=2.8.10 in /Library/Frameworks/Python.framework/Versions/3.13/lib/python3.13/site-packages (from arrow>=0.15.0->isoduration->jsonschema[format-nongpl]>=4.18.0->jupyter-events>=0.9.0->jupyter-server<3,>=2.4.0->jupyterlab->jupyter) (2.9.0.20241003)\n",
      "\n",
      "\u001b[1m[\u001b[0m\u001b[34;49mnotice\u001b[0m\u001b[1;39;49m]\u001b[0m\u001b[39;49m A new release of pip is available: \u001b[0m\u001b[31;49m24.2\u001b[0m\u001b[39;49m -> \u001b[0m\u001b[32;49m24.3.1\u001b[0m\n",
      "\u001b[1m[\u001b[0m\u001b[34;49mnotice\u001b[0m\u001b[1;39;49m]\u001b[0m\u001b[39;49m To update, run: \u001b[0m\u001b[32;49mpython3 -m pip install --upgrade pip\u001b[0m\n",
      "Note: you may need to restart the kernel to use updated packages.\n"
     ]
    }
   ],
   "source": [
    "%pip install lancedb\n",
    "%pip install pandas\n",
    "%pip install pyarrow\n",
    "%pip install ipywidgets\n",
    "%pip install jupyter"
   ]
  },
  {
   "cell_type": "code",
   "execution_count": 73,
   "metadata": {},
   "outputs": [],
   "source": [
    "import lancedb\n",
    "import pandas as pd\n",
    "import pyarrow as pa\n",
    "import numpy as np\n",
    "\n",
    "uri = \"runtime_assets/vecdb\"\n",
    "db = lancedb.connect(uri)"
   ]
  },
  {
   "cell_type": "code",
   "execution_count": 74,
   "metadata": {},
   "outputs": [
    {
     "data": {
      "text/plain": [
       "['columns', 'tables']"
      ]
     },
     "execution_count": 74,
     "metadata": {},
     "output_type": "execute_result"
    }
   ],
   "source": [
    "db.table_names()\n"
   ]
  },
  {
   "cell_type": "code",
   "execution_count": 88,
   "metadata": {},
   "outputs": [
    {
     "data": {
      "text/plain": [
       "10"
      ]
     },
     "execution_count": 88,
     "metadata": {},
     "output_type": "execute_result"
    }
   ],
   "source": [
    "tbl = db.open_table(\"tables\")\n",
    "tbl.count_rows()"
   ]
  },
  {
   "cell_type": "code",
   "execution_count": 89,
   "metadata": {},
   "outputs": [
    {
     "data": {
      "text/plain": [
       "array([[\"- Table: 'Customers' : main table that holds customer data\\n  - Columns:\\n    - CustomerID (numeric): unique identifier for customer\\n    - Name (varchar): customer's full name\\n    - Email (varchar): customer contact email\\n    - PhoneNumber (varchar): primary contact number\\n    - RegionID (numeric): references Regions table\\n    - RegistrationDate (date): customer registration date\\n    - CustomerType (varchar): customer category (individual, business)\"],\n",
       "       [\"- Table: 'Regions' : geographical regions for customer segmentation\\n  - Columns:\\n    - RegionID (numeric): unique identifier for region\\n    - RegionName (varchar): name of the region\\n    - Country (varchar): country of the region\\n    - TimeZone (varchar): standard time zone\"],\n",
       "       [\"- Table: 'Interactions' : log of all customer interactions\\n  - Columns:\\n    - InteractionID (numeric): unique identifier for interaction\\n    - CustomerID (numeric): references Customers table\\n    - AgentID (numeric): references Agents table\\n    - InteractionType (varchar): type of interaction (call, chat, email)\\n    - StartTime (datetime): interaction start time\\n    - EndTime (datetime): interaction end time\\n    - Duration (numeric): interaction length in seconds\\n    - Channel (varchar): communication channel used\"],\n",
       "       [\"- Table: 'Agents' : information about call center representatives\\n  - Columns:\\n    - AgentID (numeric): unique identifier for agent\\n    - FirstName (varchar): agent's first name\\n    - LastName (varchar): agent's last name\\n    - HireDate (date): date agent was hired\\n    - DepartmentID (numeric): references Departments table\\n    - Email (varchar): agent's work email\\n    - Status (varchar): current work status (active, on leave)\"],\n",
       "       [\"- Table: 'Departments' : organizational departments in call center\\n  - Columns:\\n    - DepartmentID (numeric): unique identifier for department\\n    - DepartmentName (varchar): name of the department\\n    - Manager (varchar): name of department manager\\n    - Location (varchar): physical location of department\"],\n",
       "       [\"- Table: 'Tickets' : customer support tickets\\n  - Columns:\\n    - TicketID (numeric): unique identifier for ticket\\n    - CustomerID (numeric): references Customers table\\n    - AgentID (numeric): references Agents table\\n    - CreationDate (datetime): ticket creation time\\n    - LastUpdated (datetime): most recent ticket update\\n    - Status (varchar): current ticket status (open, closed, in progress)\\n    - Priority (varchar): ticket priority level\\n    - Category (varchar): type of issue (technical, billing)\"],\n",
       "       [\"- Table: 'TicketNotes' : additional notes on support tickets\\n  - Columns:\\n    - NoteID (numeric): unique identifier for note\\n    - TicketID (numeric): references Tickets table\\n    - AgentID (numeric): references Agents table\\n    - NoteText (text): content of the note\\n    - CreationTime (datetime): when note was added\"],\n",
       "       [\"- Table: 'CustomerFeedback' : satisfaction surveys and feedback\\n  - Columns:\\n    - FeedbackID (numeric): unique identifier for feedback\\n    - InteractionID (numeric): references Interactions table\\n    - SatisfactionScore (numeric): customer satisfaction rating\\n    - FeedbackText (text): detailed customer comments\\n    - FeedbackDate (date): date feedback was submitted\"],\n",
       "       [\"- Table: 'AgentPerformance' : tracking agent performance metrics\\n  - Columns:\\n    - PerformanceID (numeric): unique identifier for performance record\\n    - AgentID (numeric): references Agents table\\n    - MonthYear (date): month and year of performance record\\n    - TotalInteractions (numeric): number of interactions handled\\n    - AverageHandleTime (numeric): average interaction duration\\n    - CustomerSatisfactionAverage (numeric): average satisfaction score\\n    - ResolutionRate (numeric): percentage of issues resolved\"],\n",
       "       [\"- Table: 'ServiceLevelAgreements' : SLA tracking for customer types\\n  - Columns:\\n    - SLAID (numeric): unique identifier for SLA\\n    - CustomerType (varchar): type of customer (standard, premium, enterprise)\\n    - MaxResponseTime (numeric): maximum allowed response time in minutes\\n    - MaxResolutionTime (numeric): maximum allowed resolution time in hours\\n    - EscalationProcess (text): details of escalation procedure\"]],\n",
       "      dtype=object)"
      ]
     },
     "execution_count": 89,
     "metadata": {},
     "output_type": "execute_result"
    }
   ],
   "source": [
    "tbl.search(None).select([\"content\"]).to_pandas().values"
   ]
  },
  {
   "cell_type": "code",
   "execution_count": 90,
   "metadata": {},
   "outputs": [
    {
     "data": {
      "text/html": [
       "<div>\n",
       "<style scoped>\n",
       "    .dataframe tbody tr th:only-of-type {\n",
       "        vertical-align: middle;\n",
       "    }\n",
       "\n",
       "    .dataframe tbody tr th {\n",
       "        vertical-align: top;\n",
       "    }\n",
       "\n",
       "    .dataframe thead th {\n",
       "        text-align: right;\n",
       "    }\n",
       "</style>\n",
       "<table border=\"1\" class=\"dataframe\">\n",
       "  <thead>\n",
       "    <tr style=\"text-align: right;\">\n",
       "      <th></th>\n",
       "      <th>filename</th>\n",
       "    </tr>\n",
       "  </thead>\n",
       "  <tbody>\n",
       "    <tr>\n",
       "      <th>0</th>\n",
       "      <td>- Table: 'Customers' : main table that holds c...</td>\n",
       "    </tr>\n",
       "    <tr>\n",
       "      <th>1</th>\n",
       "      <td>- Table: 'Regions' : geographical regions for ...</td>\n",
       "    </tr>\n",
       "    <tr>\n",
       "      <th>2</th>\n",
       "      <td>- Table: 'Interactions' : log of all customer ...</td>\n",
       "    </tr>\n",
       "    <tr>\n",
       "      <th>3</th>\n",
       "      <td>- Table: 'Agents' : information about call cen...</td>\n",
       "    </tr>\n",
       "    <tr>\n",
       "      <th>4</th>\n",
       "      <td>- Table: 'Departments' : organizational depart...</td>\n",
       "    </tr>\n",
       "    <tr>\n",
       "      <th>5</th>\n",
       "      <td>- Table: 'Tickets' : customer support tickets</td>\n",
       "    </tr>\n",
       "    <tr>\n",
       "      <th>6</th>\n",
       "      <td>- Table: 'TicketNotes' : additional notes on s...</td>\n",
       "    </tr>\n",
       "    <tr>\n",
       "      <th>7</th>\n",
       "      <td>- Table: 'CustomerFeedback' : satisfaction sur...</td>\n",
       "    </tr>\n",
       "    <tr>\n",
       "      <th>8</th>\n",
       "      <td>- Table: 'AgentPerformance' : tracking agent p...</td>\n",
       "    </tr>\n",
       "    <tr>\n",
       "      <th>9</th>\n",
       "      <td>- Table: 'ServiceLevelAgreements' : SLA tracki...</td>\n",
       "    </tr>\n",
       "  </tbody>\n",
       "</table>\n",
       "</div>"
      ],
      "text/plain": [
       "                                            filename\n",
       "0  - Table: 'Customers' : main table that holds c...\n",
       "1  - Table: 'Regions' : geographical regions for ...\n",
       "2  - Table: 'Interactions' : log of all customer ...\n",
       "3  - Table: 'Agents' : information about call cen...\n",
       "4  - Table: 'Departments' : organizational depart...\n",
       "5      - Table: 'Tickets' : customer support tickets\n",
       "6  - Table: 'TicketNotes' : additional notes on s...\n",
       "7  - Table: 'CustomerFeedback' : satisfaction sur...\n",
       "8  - Table: 'AgentPerformance' : tracking agent p...\n",
       "9  - Table: 'ServiceLevelAgreements' : SLA tracki..."
      ]
     },
     "execution_count": 90,
     "metadata": {},
     "output_type": "execute_result"
    }
   ],
   "source": [
    "tbl.search(None).select([\"filename\"]).to_pandas()"
   ]
  },
  {
   "cell_type": "code",
   "execution_count": 91,
   "metadata": {},
   "outputs": [],
   "source": [
    "# generate an embedding request to ollama  on the sentance \n",
    "sentence = \"where can I find data about customers and their tickets by region\"\n",
    "\n",
    "import requests\n",
    "import json\n",
    "\n",
    "def get_embedding(text):\n",
    "    response = requests.post(\n",
    "        \"http://localhost:11434/api/embeddings\",\n",
    "        json={\"model\": \"nomic-embed-text\", \"prompt\": text}\n",
    "    )\n",
    "    return response.json()[\"embedding\"]\n",
    "\n",
    "question_embedding = get_embedding(sentence)\n",
    "# normalize the embedding to unit length\n",
    "question_embedding = question_embedding / np.linalg.norm(question_embedding)\n"
   ]
  },
  {
   "cell_type": "code",
   "execution_count": 94,
   "metadata": {},
   "outputs": [],
   "source": [
    "df = tbl.search(question_embedding) \\\n",
    "    .select([\"content\"]) \\\n",
    "    .limit(3).to_pandas()\n",
    "\n"
   ]
  },
  {
   "cell_type": "code",
   "execution_count": 95,
   "metadata": {},
   "outputs": [
    {
     "data": {
      "text/plain": [
       "array([[\"- Table: 'Customers' : main table that holds customer data\\n  - Columns:\\n    - CustomerID (numeric): unique identifier for customer\\n    - Name (varchar): customer's full name\\n    - Email (varchar): customer contact email\\n    - PhoneNumber (varchar): primary contact number\\n    - RegionID (numeric): references Regions table\\n    - RegistrationDate (date): customer registration date\\n    - CustomerType (varchar): customer category (individual, business)\",\n",
       "        0.5755628943443298],\n",
       "       [\"- Table: 'Regions' : geographical regions for customer segmentation\\n  - Columns:\\n    - RegionID (numeric): unique identifier for region\\n    - RegionName (varchar): name of the region\\n    - Country (varchar): country of the region\\n    - TimeZone (varchar): standard time zone\",\n",
       "        0.5229752659797668],\n",
       "       [\"- Table: 'Tickets' : customer support tickets\\n  - Columns:\\n    - TicketID (numeric): unique identifier for ticket\\n    - CustomerID (numeric): references Customers table\\n    - AgentID (numeric): references Agents table\\n    - CreationDate (datetime): ticket creation time\\n    - LastUpdated (datetime): most recent ticket update\\n    - Status (varchar): current ticket status (open, closed, in progress)\\n    - Priority (varchar): ticket priority level\\n    - Category (varchar): type of issue (technical, billing)\",\n",
       "        0.5764646530151367]], dtype=object)"
      ]
     },
     "execution_count": 95,
     "metadata": {},
     "output_type": "execute_result"
    }
   ],
   "source": [
    "df.sort_values(by=\"content\").values"
   ]
  },
  {
   "cell_type": "code",
   "execution_count": 96,
   "metadata": {},
   "outputs": [],
   "source": [
    "rel_tables = \"\\n\".join(df['content'].values)"
   ]
  },
  {
   "cell_type": "code",
   "execution_count": 97,
   "metadata": {},
   "outputs": [
    {
     "name": "stdout",
     "output_type": "stream",
     "text": [
      "\n",
      "You are an AI assistant that answers questions about database schemas and generates SQL queries based on user questions.\n",
      "Relevan columns and their tables:\n",
      "- Table: 'Regions' : geographical regions for customer segmentation\n",
      "  - Columns:\n",
      "    - RegionID (numeric): unique identifier for region\n",
      "    - RegionName (varchar): name of the region\n",
      "    - Country (varchar): country of the region\n",
      "    - TimeZone (varchar): standard time zone\n",
      "- Table: 'Customers' : main table that holds customer data\n",
      "  - Columns:\n",
      "    - CustomerID (numeric): unique identifier for customer\n",
      "    - Name (varchar): customer's full name\n",
      "    - Email (varchar): customer contact email\n",
      "    - PhoneNumber (varchar): primary contact number\n",
      "    - RegionID (numeric): references Regions table\n",
      "    - RegistrationDate (date): customer registration date\n",
      "    - CustomerType (varchar): customer category (individual, business)\n",
      "- Table: 'Tickets' : customer support tickets\n",
      "  - Columns:\n",
      "    - TicketID (numeric): unique identifier for ticket\n",
      "    - CustomerID (numeric): references Customers table\n",
      "    - AgentID (numeric): references Agents table\n",
      "    - CreationDate (datetime): ticket creation time\n",
      "    - LastUpdated (datetime): most recent ticket update\n",
      "    - Status (varchar): current ticket status (open, closed, in progress)\n",
      "    - Priority (varchar): ticket priority level\n",
      "    - Category (varchar): type of issue (technical, billing)\n",
      "\n",
      "User Question:\n",
      "where can I find data about customers and their tickets by region\n",
      "\n",
      "Generate an answer using an explanation or query based on the schema.\n",
      "\n"
     ]
    }
   ],
   "source": [
    "prompt = f\"\"\"\n",
    "You are an AI assistant that answers questions about database schemas and generates SQL queries based on user questions.\n",
    "Relevan columns and their tables:\n",
    "{rel_tables}\n",
    "\n",
    "User Question:\n",
    "{sentence}\n",
    "\n",
    "Generate an answer using an explanation or query based on the schema.\n",
    "\"\"\"\n",
    "\n",
    "print(prompt)"
   ]
  },
  {
   "cell_type": "code",
   "execution_count": 98,
   "metadata": {},
   "outputs": [
    {
     "name": "stdout",
     "output_type": "stream",
     "text": [
      "Generated SQL query:\n",
      "To find data about customers and their tickets by region, you would need to join the 'Customers' table with the 'Tickets' table on the CustomerID column. Then, you can use a LEFT JOIN with the 'Regions' table to include regions that do not have any customer data.\n",
      "\n",
      "Here's an SQL query that accomplishes this:\n",
      "\n",
      "```sql\n",
      "SELECT \n",
      "    r.RegionName,\n",
      "    c.Name,\n",
      "    t.TicketID,\n",
      "    t.Status,\n",
      "    t.Priority,\n",
      "    t.Category\n",
      "FROM \n",
      "    Customers c\n",
      "INNER JOIN \n",
      "    Tickets t ON c.CustomerID = t.CustomerID\n",
      "LEFT JOIN \n",
      "    Regions r ON c.RegionID = r.RegionID;\n",
      "```\n",
      "\n",
      "This query will return the region name, customer name, ticket ID, status, priority, and category for each customer in their respective region. The LEFT JOIN ensures that all regions are included, even if there is no corresponding customer data.\n",
      "\n",
      "If you want to filter the results by a specific region, you can add a WHERE clause:\n",
      "\n",
      "```sql\n",
      "SELECT \n",
      "    r.RegionName,\n",
      "    c.Name,\n",
      "    t.TicketID,\n",
      "    t.Status,\n",
      "    t.Priority,\n",
      "    t.Category\n",
      "FROM \n",
      "    Customers c\n",
      "INNER JOIN \n",
      "    Tickets t ON c.CustomerID = t.CustomerID\n",
      "LEFT JOIN \n",
      "    Regions r ON c.RegionID = r.RegionID\n",
      "WHERE \n",
      "    r.RegionName = 'YourRegionName';\n",
      "```\n",
      "\n",
      "Replace `'YourRegionName'` with the actual region name you're interested in.\n"
     ]
    }
   ],
   "source": [
    "# send request to ollama\n",
    "response = requests.post(\n",
    "    \"http://localhost:11434/api/generate\",\n",
    "    json={\n",
    "        \"model\": \"llama3.2\",\n",
    "        \"prompt\": prompt,\n",
    "        \"options\": {\n",
    "            \"temperature\": 0.1,\n",
    "        },\n",
    "        \"stream\": False\n",
    "    }\n",
    ")\n",
    "\n",
    "# extract the SQL query from response\n",
    "sql_query = response.json()[\"response\"]\n",
    "print(\"Generated SQL query:\")\n",
    "print(sql_query)\n"
   ]
  },
  {
   "cell_type": "code",
   "execution_count": null,
   "metadata": {},
   "outputs": [],
   "source": []
  }
 ],
 "metadata": {
  "kernelspec": {
   "display_name": "Python 3",
   "language": "python",
   "name": "python3"
  },
  "language_info": {
   "codemirror_mode": {
    "name": "ipython",
    "version": 3
   },
   "file_extension": ".py",
   "mimetype": "text/x-python",
   "name": "python",
   "nbconvert_exporter": "python",
   "pygments_lexer": "ipython3",
   "version": "3.13.0"
  }
 },
 "nbformat": 4,
 "nbformat_minor": 2
}
